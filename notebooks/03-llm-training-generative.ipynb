{
 "cells": [
  {
   "cell_type": "code",
   "execution_count": 1,
   "metadata": {},
   "outputs": [],
   "source": [
    "import pandas as pd\n",
    "import json\n",
    "from datasets import Dataset"
   ]
  },
  {
   "cell_type": "code",
   "execution_count": 2,
   "metadata": {},
   "outputs": [],
   "source": [
    "train_df = pd.read_csv('../dataset/processed/train.csv')\n",
    "val_df = pd.read_csv('../dataset/processed/validation.csv')\n",
    "\n",
    "with open('../dataset/processed/label_mapping.json', 'r') as f:\n",
    "  label_mapping = json.load(f)\n",
    "reversed_label_mapping = {v: k for k, v in label_mapping.items()}"
   ]
  },
  {
   "cell_type": "code",
   "execution_count": 3,
   "metadata": {},
   "outputs": [],
   "source": [
    "def create_prompt(row, label_mapping, reversed_label_mapping):\n",
    "    categories = list(label_mapping.keys())\n",
    "    instruction = (\n",
    "        f\"Classify the following Indonesian tweet into one of these categories: {categories}.\\n\\n\"\n",
    "        f\"Tweet: {row['cleaned_text']}\\n\\nCategory:\"\n",
    "    )\n",
    "    return {\"prompt\": instruction, \"label\": reversed_label_mapping[row['label']]}\n",
    "\n",
    "# Generate prompts for train and validation datasets\n",
    "def generate_prompts(dataframe, label_mapping, reversed_label_mapping):\n",
    "    return [\n",
    "        create_prompt(row, label_mapping, reversed_label_mapping)\n",
    "        for _, row in dataframe.iterrows()\n",
    "    ]\n",
    "\n",
    "# Create Hugging Face datasets from prompts\n",
    "def create_hf_dataset(prompts):\n",
    "    return Dataset.from_pandas(pd.DataFrame(prompts))\n",
    "\n",
    "# Generate train and validation prompts\n",
    "train_prompts = generate_prompts(train_df, label_mapping, reversed_label_mapping)\n",
    "val_prompts = generate_prompts(val_df, label_mapping, reversed_label_mapping)\n",
    "\n",
    "# Convert prompts to Hugging Face datasets\n",
    "train_dataset = create_hf_dataset(train_prompts)\n",
    "val_dataset = create_hf_dataset(val_prompts)"
   ]
  }
 ],
 "metadata": {
  "kernelspec": {
   "display_name": "indonesian-tweet-classification-indobert-3.12",
   "language": "python",
   "name": "python3"
  },
  "language_info": {
   "codemirror_mode": {
    "name": "ipython",
    "version": 3
   },
   "file_extension": ".py",
   "mimetype": "text/x-python",
   "name": "python",
   "nbconvert_exporter": "python",
   "pygments_lexer": "ipython3",
   "version": "3.12.10"
  }
 },
 "nbformat": 4,
 "nbformat_minor": 4
}
