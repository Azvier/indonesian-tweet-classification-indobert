{
 "cells": [
  {
   "cell_type": "code",
   "execution_count": 11,
   "metadata": {},
   "outputs": [],
   "source": [
    "import pandas as pd\n",
    "import json\n",
    "from datasets import Dataset\n",
    "from transformers import AutoTokenizer, AutoModelForCausalLM, BitsAndBytesConfig\n",
    "import torch\n",
    "from peft import prepare_model_for_kbit_training, LoraConfig, get_peft_model"
   ]
  },
  {
   "cell_type": "code",
   "execution_count": 3,
   "metadata": {},
   "outputs": [],
   "source": [
    "train_df = pd.read_csv('../dataset/processed/train.csv')\n",
    "val_df = pd.read_csv('../dataset/processed/validation.csv')\n",
    "\n",
    "with open('../dataset/processed/label_mapping.json', 'r') as f:\n",
    "  label_mapping = json.load(f)\n",
    "reversed_label_mapping = {v: k for k, v in label_mapping.items()}"
   ]
  },
  {
   "cell_type": "code",
   "execution_count": 4,
   "metadata": {},
   "outputs": [],
   "source": [
    "def create_formatted_prompt(row, reversed_label_mapping):\n",
    "    \"\"\"\n",
    "    This function creates the full prompt structure that the model will see,\n",
    "    including the instruction, the tweet, and the correct label.\n",
    "    The SFTTrainer will automatically handle splitting this into input and target.\n",
    "    \"\"\"\n",
    "    categories = list(reversed_label_mapping.values())\n",
    "    return (\n",
    "        f\"Classify the following Indonesian tweet into one of these categories: {categories}.\\n\\n\"\n",
    "        f\"Tweet: {row['cleaned_text']}\\n\\n\"\n",
    "        f\"Category: {reversed_label_mapping[row['label']]}\"\n",
    "    )\n",
    "\n",
    "# Create the formatted prompt column for the SFTTrainer\n",
    "train_df['prompt'] = train_df.apply(lambda row: create_formatted_prompt(row, reversed_label_mapping), axis=1)\n",
    "val_df['prompt'] = val_df.apply(lambda row: create_formatted_prompt(row, reversed_label_mapping), axis=1)\n",
    "\n",
    "# Convert to Hugging Face Dataset objects\n",
    "train_dataset = Dataset.from_pandas(train_df)\n",
    "val_dataset = Dataset.from_pandas(val_df)"
   ]
  },
  {
   "cell_type": "code",
   "execution_count": null,
   "metadata": {},
   "outputs": [],
   "source": [
    "model_name = 'deepseek-ai/DeepSeek-R1-Distill-Qwen-7B'\n",
    "\n",
    "# Quantize model\n",
    "quantization_config = BitsAndBytesConfig(\n",
    "    load_in_4bit=True,\n",
    "    bnb_4bit_quant_type=\"nf4\",\n",
    "    bnb_4bit_compute_dtype=torch.float16\n",
    ")\n",
    "\n",
    "# Load tokenizer\n",
    "tokenizer = AutoTokenizer.from_pretrained(model_name, trust_remote_code=True)\n",
    "tokenizer.pad_token = tokenizer.eos_token\n",
    "tokenizer.padding_side = \"right\"\n",
    "\n",
    "# Load model with quantization\n",
    "model = AutoModelForCausalLM.from_pretrained(\n",
    "    model_name,\n",
    "    quantization_config=quantization_config,\n",
    "    device_map=\"auto\"\n",
    ")\n",
    "\n",
    "# Prepare the model for training\n",
    "model = prepare_model_for_kbit_training(model)\n",
    "\n",
    "lora_config = LoraConfig(\n",
    "    r=16,\n",
    "    lora_alpha=32,\n",
    "    target_modules=[\"q_proj\", \"k_proj\", \"v_proj\", \"o_proj\"],\n",
    "    lora_dropout=0.05,\n",
    "    bias=\"none\",\n",
    "    task_type=\"CAUSAL_LM\"\n",
    ")\n",
    "\n",
    "# Apply LoRA adapters to the model\n",
    "model = get_peft_model(model, lora_config)\n",
    "\n",
    "print(\"Model loaded and prepared for fine-tuning successfully!\")\n",
    "print(f\"Trainable parameters: {model.print_trainable_parameters()}\")"
   ]
  }
 ],
 "metadata": {
  "kernelspec": {
   "display_name": "indonesian-tweet-classification-indobert-3.12",
   "language": "python",
   "name": "python3"
  },
  "language_info": {
   "codemirror_mode": {
    "name": "ipython",
    "version": 3
   },
   "file_extension": ".py",
   "mimetype": "text/x-python",
   "name": "python",
   "nbconvert_exporter": "python",
   "pygments_lexer": "ipython3",
   "version": "3.12.10"
  }
 },
 "nbformat": 4,
 "nbformat_minor": 4
}
