{
 "cells": [
  {
   "cell_type": "code",
   "execution_count": null,
   "metadata": {},
   "outputs": [],
   "source": [
    "import pandas as pd\n",
    "import json\n",
    "from datasets import Dataset\n",
    "from transformers import AutoTokenizer, AutoModelForCausalLM, BitsAndBytesConfig\n",
    "import torch"
   ]
  },
  {
   "cell_type": "code",
   "execution_count": 2,
   "metadata": {},
   "outputs": [],
   "source": [
    "train_df = pd.read_csv('../dataset/processed/train.csv')\n",
    "val_df = pd.read_csv('../dataset/processed/validation.csv')\n",
    "\n",
    "with open('../dataset/processed/label_mapping.json', 'r') as f:\n",
    "  label_mapping = json.load(f)\n",
    "reversed_label_mapping = {v: k for k, v in label_mapping.items()}"
   ]
  },
  {
   "cell_type": "code",
   "execution_count": 5,
   "metadata": {},
   "outputs": [],
   "source": [
    "def create_formatted_prompt(row, reversed_label_mapping):\n",
    "    \"\"\"\n",
    "    This function creates the full prompt structure that the model will see,\n",
    "    including the instruction, the tweet, and the correct label.\n",
    "    The SFTTrainer will automatically handle splitting this into input and target.\n",
    "    \"\"\"\n",
    "    categories = list(reversed_label_mapping.values())\n",
    "    return (\n",
    "        f\"Classify the following Indonesian tweet into one of these categories: {categories}.\\n\\n\"\n",
    "        f\"Tweet: {row['cleaned_text']}\\n\\n\"\n",
    "        f\"Category: {reversed_label_mapping[row['label']]}\"\n",
    "    )\n",
    "\n",
    "# Create the formatted prompt column for the SFTTrainer\n",
    "train_df['prompt'] = train_df.apply(lambda row: create_formatted_prompt(row, reversed_label_mapping), axis=1)\n",
    "val_df['prompt'] = val_df.apply(lambda row: create_formatted_prompt(row, reversed_label_mapping), axis=1)\n",
    "\n",
    "# Convert to Hugging Face Dataset objects\n",
    "train_dataset = Dataset.from_pandas(train_df)\n",
    "val_dataset = Dataset.from_pandas(val_df)"
   ]
  }
 ],
 "metadata": {
  "kernelspec": {
   "display_name": "indonesian-tweet-classification-indobert-3.12",
   "language": "python",
   "name": "python3"
  },
  "language_info": {
   "codemirror_mode": {
    "name": "ipython",
    "version": 3
   },
   "file_extension": ".py",
   "mimetype": "text/x-python",
   "name": "python",
   "nbconvert_exporter": "python",
   "pygments_lexer": "ipython3",
   "version": "3.12.10"
  }
 },
 "nbformat": 4,
 "nbformat_minor": 4
}
