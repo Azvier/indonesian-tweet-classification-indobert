{
 "cells": [
  {
   "cell_type": "code",
   "execution_count": 1,
   "id": "b26fd8b6",
   "metadata": {},
   "outputs": [],
   "source": [
    "import pandas as pd"
   ]
  },
  {
   "cell_type": "code",
   "execution_count": 2,
   "id": "705418c2",
   "metadata": {},
   "outputs": [],
   "source": [
    "train_df = pd.read_csv('../dataset/processed/train.csv')\n",
    "val_df = pd.read_csv('../dataset/processed/validation.csv')\n",
    "test_df = pd.read_csv('../dataset/processed/test.csv')"
   ]
  },
  {
   "cell_type": "code",
   "execution_count": 3,
   "id": "29774487",
   "metadata": {},
   "outputs": [
    {
     "name": "stdout",
     "output_type": "stream",
     "text": [
      "Train shape: (3500, 2)\n",
      "Validation shape: (750, 2)\n",
      "Test shape: (750, 2)\n",
      "\n",
      "Train DataFrame head:\n",
      "                                        cleaned_text          label\n",
      "0  warga kp bayam itu yang lahannya dipakai buat ...        Politik\n",
      "1  team pesona bobby kertanegara mulai turun tang...        Politik\n",
      "2  kapolri jenderal listyo sigit prabowo menghadi...  Sosial Budaya\n",
      "3  ini lah hasil dari kinerja pak prabowo selama ...        Politik\n",
      "4  puluhan ribu masyarakat menyambut kedatangan a...        Politik\n"
     ]
    }
   ],
   "source": [
    "print(\"Train shape:\", train_df.shape)\n",
    "print(\"Validation shape:\", val_df.shape)\n",
    "print(\"Test shape:\", test_df.shape)\n",
    "print(\"\\nTrain DataFrame head:\")\n",
    "print(train_df.head())"
   ]
  }
 ],
 "metadata": {
  "kernelspec": {
   "display_name": "indonesian-tweet-classification-indobert-3.12",
   "language": "python",
   "name": "python3"
  },
  "language_info": {
   "codemirror_mode": {
    "name": "ipython",
    "version": 3
   },
   "file_extension": ".py",
   "mimetype": "text/x-python",
   "name": "python",
   "nbconvert_exporter": "python",
   "pygments_lexer": "ipython3",
   "version": "3.12.10"
  }
 },
 "nbformat": 4,
 "nbformat_minor": 5
}
