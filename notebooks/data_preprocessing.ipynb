{
 "cells": [
  {
   "cell_type": "code",
   "execution_count": 2,
   "id": "4488f95a",
   "metadata": {},
   "outputs": [],
   "source": [
    "import pandas as pd\n",
    "import re\n",
    "import regex\n",
    "from indoNLP.preprocessing import replace_slang, replace_word_elongation"
   ]
  },
  {
   "cell_type": "code",
   "execution_count": 3,
   "id": "80283cfa",
   "metadata": {},
   "outputs": [],
   "source": [
    "dataset = pd.read_csv(r'../dataset/dataset.csv', sep=';')"
   ]
  },
  {
   "cell_type": "code",
   "execution_count": 4,
   "id": "05b488c6",
   "metadata": {},
   "outputs": [
    {
     "data": {
      "application/vnd.microsoft.datawrangler.viewer.v0+json": {
       "columns": [
        {
         "name": "index",
         "rawType": "int64",
         "type": "integer"
        },
        {
         "name": "text",
         "rawType": "object",
         "type": "string"
        },
        {
         "name": "label",
         "rawType": "object",
         "type": "string"
        }
       ],
       "ref": "a6853b38-3531-4460-b6d4-c0848ed742ae",
       "rows": [
        [
         "0",
         "Kunjungan Prabowo ini untuk meresmikan dan menyerahkan proyek bantuan air bersih di lima titik. #IndonesiaSentris #IndonesiaHijau #02Melanjutkan #AnakMudaIndonesiaEmas Prabowo Subianto",
         "Sumber Daya Alam"
        ],
        [
         "1",
         "RT Anies dapat tepuk tangan meriah saat jadi Rektor mewajibkan mata kuliah anti-korupsi untuk memutus mata rantai korupsi.. #AminMiskinkanKoruptor https://t.co/hgXsoQGaEa [RE ekowboy2]",
         "Politik"
        ],
        [
         "2",
         "@CIqXqwGAT04tMtx4OCATxjoVq7vv/Y8HeYaIOgMFg8Y= emng bener sih, pendukung 01 ada yg goblok, begitu jg dg pendukung 02.. hnya sj menurut pak Ridwan Kamil skemanya terbalik, klo 01 MAYORITAS PENDIDIKAN MENENGAH ATAS (artinya ada jg pendidikan rendah yg milih",
         "Demografi"
        ],
        [
         "3",
         "RT @L3R8XFBw3WGbxRPSj0/0hHZTbqVGX7qtfwRg9zmhK7Q= Sewaktu anies bersikap kritis ke kinerja pak prabowo dianggap engga sopan karena dianggap kurang menghormati orang tua, giliran skrg gibran yg tengil dan sok kritis malah dianggap kritis dan keras. Apakah ini tidak standar ganda? Ã°ÂŸÂ¤Â­ [RE coldthem]",
         "Politik"
        ],
        [
         "4",
         "Anies Baswedan Harap ASN termasuk TNI dan Polri Pegang Sumpahnya dalam Pemilu https://t.co/QRQZ3wI8YP",
         "Politik"
        ],
        [
         "5",
         "RT Duh jangan sampai Pak lurah denger nih Ã°ÂŸÂ¤Â­ Di Acara Hajatan Rakyat, Puluhan Ribu Warga di Kendal Serukan Ã¢Â€ÂœGanjar PresidenÃ¢Â€Â Kehadiran @0Zdeh9QcTWu+z+fS3hRaTcFuSLRh56REFyRLq4/Jdlc= menjadi magnet bagi puluhan ribu warga untuk datang menghadiri Hajatan Rakyat Ganjar-Mahfud. Besarnya antusiasme warga menjadi bukti bahwa Jawa Tengah tetap menjadi kandang banteng. #GanjarMahfud2024 #TabrakProfMahfud [RE DS_yantie]",
         "Politik"
        ],
        [
         "6",
         "Prabowo minta Kemenhan dan Tim Satgas Air Unhan kaji bantuan air di Sukabumi. dekade08 Prabowo - Gibran",
         "Pertahanan dan Keamanan"
        ],
        [
         "7",
         "RT Anies: Ya Allah Sibukkanlah Orang Zalim Agar Dapat Kejahatan dari Orang Zalim Lainnya https://t.co/1VK6BWKu2s [RE OposisiCerdas]",
         "Politik"
        ],
        [
         "8",
         "RT Abah @znOMP7ZMVU9dMuMNA/cIazC9q5+hgwVkTsQNdQLKgTc= itu bapa kami, bapa yg berikan perhatian untuk pendidikan anak anak Papua jadi pintar pintar. Gerakan Indonesia mengajar tak bisa di lupakan sama warga Papua. Kami ingin bapa Anies jadi Presiden. https://t.co/FCdf6J1L3Z [RE LANGKAHANIES]",
         "Politik"
        ],
        [
         "9",
         "RT Bawaslu dimaki \"JANCUK\" sama warga garaÃ‚Â² mencopot spanduk Ganjar Mahfud, sementara spanduk Capres lain tidak dicopot. Bawaslu rasa tim sukses. Ã°ÂŸÂ˜Âª #AsalBukanPrabowo #OrdeBaruReborn https://t.co/AcubW2OFlq [RE 03__nakula]",
         "Politik"
        ],
        [
         "10",
         "RT Beberapa isu basi terkait @hs5jZceksZrPM0NiWtKnsbSbZ1XyaZtU4OHkKgrcDk8= / @wEOWbjbQXX93e2r1/7iXQ1mV/pxGE9yrnUdgURpW0Y0= dan fakta sebenarnya bisa dilihat di https://t.co/3aR3K0Plf4. Beberapa diantaranya: Ã¢Â€Â¢ Anies akan mengganti Pancasila dengan sistem Khilafah: https://t.co/jfzZ6vpU11 Ã¢Â€Â¢ Terkait toleransi berbagai penganut agamaÃ¢Â€Â”Anies blunder soal data rumah ibadah di Jakarta: https://t.co/nGdOmaVOEO Ã¢Â€Â¢ Anies mengkhianati Prabowo untuk jadi Capres: https://t.co/ioe8x09UpZ Saat kebenaran dan fakta atas suatu hal telah jelas, tapi tetap disangkalÃ¢Â€Â”entah karena niat jahat, nafsu, atau kepentingan pribadiÃ¢Â€Â¦benar bahwa seringkali yang buta itu bukan mata, tapi hati yang buta. [RE borryshasian]",
         "Ideologi"
        ],
        [
         "11",
         "RT Ganjar Pranowo-Mahfud MD menekankan pentingnya persiapan dalam kebutuhan dasar alutsista dari tiga matra, yaitu darat, laut, dan udara.Ganjar Mahfud M3nang. #GanjarMahfudRebound #GanjarPranowoPilihanUmat #JNK #TemanAlamGanjar #AtikohIbuNegara #Apri0801 https://t.co/kxi9ei6A46 [RE AllaaGa1]",
         "Pertahanan dan Keamanan"
        ],
        [
         "12",
         "RT Calon presiden (capres) nomor urut 1 Anies Baswedan @vaVbSLyok3xdwCAiYpXkJarkzroaILpIRIdpu/z3CJE= sudah siap dengan kemampuannya menghadapi debat ketiga. Debat ketiga akan menyangkut tema soal pertahanan, keamanan, hubungan internasional, dan geopolitik. Download #metrotvxtend di app store & play store #aniesbaswedan #pemilu2024 #debatcapres [RE Metro_TV]",
         "Pertahanan dan Keamanan"
        ],
        [
         "13",
         "Capres Ganjar Pranowo punya rencana besar! Dia bakal bersinergi sama perguruan tinggi buat program yang membawa perubahan positif. #GanjarMahfudRebound #GanjarPranowoPilihanUmat #JNK https://t.co/L8MREZKfXz",
         "Politik"
        ],
        [
         "14",
         "@YcALzIavlM9mN2WtCz3omAmFsnJU8aBm4seMBHJD2vc= @tDtdY83jBV3k81lsAOhmIc1vK+/zGxcIdKVOWIu29xI= @Knh1OhMlSdWjOdPeGirPIxWUf4qXOOU/iNP8ZBTeaLE= @K7Z2vGLl2OuxDbFwAiP8MxCqp07lzjNsfLWVZu5Ipz4= Dengan pendapatan APBD jumbo, paling besar se-Indonesia, mencapai Rp 77",
         "Ekonomi"
        ],
        [
         "15",
         "@VHznvAltictn2PtvpMTLB+H/VJ6L603oe1oRpSZJtO4= Kenyataan yg timbul, menghancurkan pribadi yg isinya penuh kebencian ke AyahBOWO AdalahKITA menimbulkan dampak emosional di pemilih. #MunculFenomenaPAKbowo DukunganTulus Untuk02 @K5CWVm/0TA1XpCHveYhOEBrkxUugg2",
         "Politik"
        ],
        [
         "16",
         "RT Mas Ganjar bawa data dan ngasih pertanyaan berdasar data. Bisa saja dijawab oleh Pak Prabowo tanpa bilang data dari Mas Ganjar salah. Tapi karena Pak Prabowo bilang datanya salah, wajar jika Mas Ganjar minta ditunjukkan mana data yang benar. Gak ada urusan sama waktu yang singkat. [RE pangeransiahaan]",
         "Politik"
        ],
        [
         "17",
         "RT Trending On Twitter ( X) Anies Bubble meroket - Fenomena Fans K-pop join AMIN -ISME https://t.co/SzQctyOJoQ [RE Yurissa_Samosir]",
         "Sosial Budaya"
        ],
        [
         "18",
         "RT @BUMlUyYYGIARoOH2Nx/iuCAFpXprUov+NM3cvB2DtYI= Wait wait pak. Ada bukti pak anies gunakan politik identitas ? Bukankah justru ahok yang terang terangan. Bahkan sebelum pilkada saja sudah memantik perselisihan misal gunakan password wifi dengan kata \"kafir\". Berpikir adil itu memang sulit pak. https://t.co/tCzvhvR2G9 [RE iahk25]",
         "Politik"
        ],
        [
         "19",
         "RT Siti Atikoh mengunjungi kantor TPD Ganjar-Mahfud Sumatera Selatan. Atikoh mendapat kejutan dari penyandang tuna rungu simpatisan Ganjar-Mahfud di Hari Tuna Rungu Nasional 2024. Atikoh diberikan kejutan berupa kaos warna merah, bertuliskan Ibu Negara Indonesia di bagian depan. Tak hanya diberikan kejutan, Atikoh juga diajarkan Bahasa Isyarat. #PDIPerjuangan #HUTPDIPerjuanganKe51 #KebenaranPastiMenang #SatyamEvaJayate #GanjarMahfud2024 #MEnangkanGAnjar #Nomor3Pilihanku [RE PDI_Perjuangan]",
         "Politik"
        ],
        [
         "20",
         "RT Abah Anies ingin mengangkat martabat petani agar tidak terus menerus menerima bansos karena penghasilannya cukup.. #AMINAjaDulu https://t.co/txIvBhLvn2 [RE ekowboy2]",
         "Sosial Budaya"
        ],
        [
         "21",
         "Calon Presiden RI Ganjar Pranowo yakin, bersama Mahfud MD, regulasi hukum investasi bakal lebih mudah dipahami oleh semua pihak.#GanjarMahfudRebound #GanjarPranowoPilihanUmat #JNK https://t.co/v6hsuOEr84",
         "Politik"
        ],
        [
         "22",
         "RT Pak Michael Gaya bicara keras dan terkesan emosional tapi tetap berisiÃ°ÂŸÂ¥Â¹ \" Tidak Usah jangan, Berarti Prabowo itu sudah menggunakan kekerasan militer untuk orang yang sifatnya \" #Anies Pak Lurah Bu Hesti Anies Deserve Better Asnawi Videotron Pegang Miftah Papua Amien Rais https://t.co/VIKVDzL1Sr [RE Riweh_Banget]",
         "Politik"
        ],
        [
         "23",
         "Paslon 03 Ganjar Pranowo yakin, bersama Mahfud MD, regulasi hukum investor di Indonesia bakal lebih bersahabat dan terukur.#GanjarMahfudRebound #GanjarPranowoPilihanUmat #JNK https://t.co/RIoiHBQcPU",
         "Politik"
        ],
        [
         "24",
         "RT ANIES SOSOK AYAH YANG PENUH KEHANGATAN - Ã¬Â• Ã«Â‹ÂˆÃ¬ÂŠÂ¤Ã«ÂŠÂ” Ã«Â”Â°Ã«ÂœÂ»Ã­Â•Â¨Ã¬ÂÂ´ ÃªÂ°Â€Ã«Â“ÂÃ­Â•Âœ Ã¬Â•Â„Ã«Â²Â„Ã¬Â§Â€Ã¬ÂÂ˜ Ã«ÂªÂ¨Ã¬ÂŠÂµÃ¬Âž Ã«Â‹ÂˆÃ«Â‹Â¤ Pak @tMhERoSGzAGffRRtESW3sH2i8KRZA00OpeRvhkolzv0= mmg sosok Ayah yg Penuh Kehangatan. Lihat dlm tayangan video ini, tangannya lentur banget menggendong anak kecil. Tampak Luwes, ngga kaku dan ngga buat-buat.Ã‚ Pasti anak-anaknya jg sering merasakan gendongan, pelukan dan pelukan beliau. - \"Kekuatan sejati adalah ketenangan di pelukan Ayah.\" - #aniesbubbleÃ‚ #AniesMuhaimin2024 [RE papa_loren]",
         "Pertahanan dan Keamanan"
        ],
        [
         "25",
         "Capres Ganjar Pranowo nggak main-main nih! Kolaborasi dengan perguruan tinggi buat program edukatif yang oke punya. #GanjarMahfudRebound #GanjarPranowoPilihanUmat #JNK https://t.co/aDzMKmTRYj",
         "Politik"
        ],
        [
         "26",
         "RT Projo Kawal Prabowo Gibran Menang Sekali Putaran Ã¢ÂœÂŠÃ°ÂŸÂ‡Â®Ã°ÂŸÂ‡Â© #projo #jokowi #setiadigarisrakyat https://t.co/9WT8h4Iizh [RE Projo_Pusat]",
         "Politik"
        ],
        [
         "27",
         "tempodotco semangat pak Ã‚ Ã‚ kami akan selalu m3nddukung muÃ‚ Ganjar Mahfud Hebat #Coblos3 #3GM #GanjarMahfudM3nangDebat #DebatCapres https://t.co/K7EM7R7P2v",
         "Politik"
        ],
        [
         "28",
         "RT Anies sesuai selera masyarakat Sumatera Barat. https://t.co/6phxEXGjc6 [RE kamalmiko]",
         "Sosial Budaya"
        ],
        [
         "29",
         "RT Abah Anies Baswedan &amp; ibu Fery Farhati tiba di Pekanbaru Kampanye Akbar kedua hari ini Ã°ÂŸÂ”Â¥ https://t.co/XcZxFscBhw [RE Mdy_Asmara1701]",
         "Politik"
        ],
        [
         "30",
         "Atikoh Beberkan Solusi Ganjar-Mahfud Atasi Harga Pangan Naik https://t.co/m8OARyG630",
         "Politik"
        ],
        [
         "31",
         "RT Giliran Buruh Soloraya Deklarasi Dukung Prabowo-Gibran - Soloraya https://t.co/DBaQCYeqKV https://t.co/hjZXhvK0oi #IndonesiaKuatIndonesiaMaju #DiplomasiProgresif02 #02Melanjutkan [RE doddy_h4312]",
         "Politik"
        ],
        [
         "32",
         "Capres Cawapres Ganjar Pranowo dan Mahfud MD mengajak semua pihak untuk bersatu menjaga Konstitusi atau aturan dasar negara.#JNK #GanjarMahfudRebound #GanjarPranowoPilihanUmat https://t.co/VdpFFxOeUQ",
         "Ideologi"
        ],
        [
         "33",
         "RT Raja dangdut Pak Haji Rhoma irama Bertanya Tentang seni dan Film Jika Pak Anies Terpilih jadi Presiden Desak ANIES &amp; Slepet Imin di JI-EXPO Kemayoran Jakarta pusat Hari ini Senin 29 Januari 2024 https://t.co/RrXqDp1oVE [RE Yurissa_Samosir]",
         "Politik"
        ],
        [
         "34",
         "Capres Ganjar Pranowo akan memberikan ruang bagi masyarakat untuk memberikan masukan dan saran dalam evaluasi pasal karet UU ITE.#JNK #GanjarMahfudRebound #GanjarPranowoPilihanUmat https://t.co/P6xBly0eos",
         "Politik"
        ],
        [
         "35",
         "RT Ini musuh utama gen z, Anies bertekad basmi praktik ordal dalam penerimaan tenaga kerja di sektor swasta &amp; pemerintahan dg penegakan aturan.. #AMINAjaDulu https://t.co/kcras6WuXs [RE ekowboy2]",
         "Politik"
        ],
        [
         "36",
         "Debat Capres-Cawapres ke-3, Anies menyatakan nilai Kemenhan dalam melaksanakan kebijakan nilainya 11 dari 100. Jadi Menteri saja tidak layak, menurut Paslon 01.",
         "Politik"
        ],
        [
         "37",
         "Pasangan Duet Capres Cawapres Ganjar Pranowo Mahfud MD, motor perubahan. Kredit 35% untuk koprasi dan UMKM, jadi andalan bisnis lokal. Sukses terus, teman-teman.JN18A #JNK #GanjarMahfudRebound #GanjarPranowoPilihanUmat",
         "Ekonomi"
        ],
        [
         "38",
         "RT Anak Muda Indonesia, the future of this nation is in your hand. It's the time for change. Anies for President..sampaikan yg harus disampaikan kepada teman lainnya karena sudah saatnya adu ide &amp; gagasan...tunjukan karya-karya Pak Anies untuk Perubahan Indonesia lebih baik lagi https://t.co/S9S9Kanr0z [RE Yurissa_Samosir]",
         "Ideologi"
        ],
        [
         "39",
         "RT Pak AniesÃ¢Â€Â™s post has reached 26.000 likes and 1.350.573 on Dialog Capres w/ Kadin, tvOneNews Youtube in 1 Days 15 Hour 27 Minutes. Ã¢Â€Â” It is the fastest and highest post to reach 26k likes and 1.3M likes among capresÃ¢Â€Â™s members #ANIES #Ã¬Â•Â„Ã«Â‹ÂˆÃ¬ÂŠÂ¤ #AniesAtKadin https://t.co/skRZA4AWlp [RE aniesbubble]",
         "Sosial Budaya"
        ],
        [
         "40",
         "RT According to Prabowo, Gaza is opressed because they don't have a sufficient military power. This is such a tone-deaf statement coming from a Minister of Defense. [RE WAPamungkas]",
         "Pertahanan dan Keamanan"
        ],
        [
         "41",
         "RT Ini kejam, warga disitu sudah bersedia dibangun JIS dgn janji Anies utk memabngun rumah susun bagi mereka. Stlh rumah itu terbangun mrk ga diberikan haknya. Padahal Anies selaku Gubernur sll menepati janjinya. Kampung akuarium, kampung kunir dll. Apa yg salah rakyat mendapat rmh? [RE GeiszChalifah]",
         "Sosial Budaya"
        ],
        [
         "42",
         "RT Prabowo-Gibran akan Terapkan 17 Program Ini untuk Melancarkan Ekonomi Biru - Internasional Kontan https://t.co/3wJ1RkX4NX #MenangSeputaran [RE AzzrielAzaryahu]",
         "Ekonomi"
        ],
        [
         "43",
         "RT VIRAL Anies Baswedan Dapat Ancaman Penembakan, Tim Hukum AMIN Siap Tempuh Jalur Hukum! https://t.co/pnFEy0cLgj [RE democrazymedia]",
         "Pertahanan dan Keamanan"
        ],
        [
         "44",
         "RT Kasihan Pendukung Prabowo udah dibela belain masuk penjara gak diakui..... https://t.co/8l6IbwcGwC [RE Catatan_ali7]",
         "Politik"
        ],
        [
         "45",
         "tempodotco Ayo Ganjar, tuntaskan permasalahan yang ada di Indonesia, pasti bisa pasti m3nang Ã‚ Ã‚ semuakerjaÃ‚ Ganjar Mahfud Hebat #Coblos3 #3GM #DuluJokowiSekarangGanjar ayahbowo adalahkita Ã°ÂŸÂ˜Â€ https://t.co/zRmqeHufEI",
         "Politik"
        ],
        [
         "46",
         "RT Wiranto langsung bergerak cepat untuk memberikan dukungan kepada Prabowo - Gibran. #WirantoGasPolDukung02 https://t.co/vkk1Hbk5Wl [RE AlfisyahriFarah]",
         "Politik"
        ],
        [
         "47",
         "RT gua beneran sedih banget kenapa ya orang tuh susah menerima fakta kalo prabowo itu war criminal dan zionistÃ¢Â€Â¦.. kek thereÃ¢Â€Â™s so many possibilities kalo beliau kepilih bakal regress demokrasi kita, bakal lebih otoriter, bahkan banyak menteri progresif yg pasti akan didepakÃ¢Â€Â¦ [RE moonincancer__]",
         "Politik"
        ],
        [
         "48",
         "RT Lautan manusia sambut Capres nomor urut 1, Anies Baswedan saat laksanakan giat kampanye ke Bone, Sulawesi Selatan (Sulsel), Rabu (17/1/2024). Anies bertemu dengan masyarakat Bone di Lapangan Sepak Bola Cina. Kampanye kali ini cukup spesial lantaran ditemani oleh eks Wakil Presiden, Jusuf Kalla (JK). Melihat lautan manusia yang antusias menyapa Anies ini pun membuat dia merasa takjub, dan menegaskan bahwa uang tidak dapat mengobarkan semangat seperti ini. Simak berita selengkapnya di https://t.co/IuWcTPbHZj #HardNews_Politik #NewsOne #CariBeritaditvOne #NO01 #AniesBaswedan #Kampanye #ViralBone #Pilpres2024 #Politik #KamiKabarkanAndaPutuskan #MauMemilih #tvOneTVPemilu [RE tvOneNews]",
         "Politik"
        ],
        [
         "49",
         "RT baru kali ini ada capres yg mau peluk orang papua mencium tangan anak-Anak papua biar rakyat yang menilai !! Gak ngaruh tetap all in prabowo istirahatÃ°ÂŸÂ«Â£ Anies Deserve Better #AbahAnies #CakImin https://t.co/2lcwxzGCN0 [RE nialubis_]",
         "Politik"
        ]
       ],
       "shape": {
        "columns": 2,
        "rows": 5000
       }
      },
      "text/html": [
       "<div>\n",
       "<style scoped>\n",
       "    .dataframe tbody tr th:only-of-type {\n",
       "        vertical-align: middle;\n",
       "    }\n",
       "\n",
       "    .dataframe tbody tr th {\n",
       "        vertical-align: top;\n",
       "    }\n",
       "\n",
       "    .dataframe thead th {\n",
       "        text-align: right;\n",
       "    }\n",
       "</style>\n",
       "<table border=\"1\" class=\"dataframe\">\n",
       "  <thead>\n",
       "    <tr style=\"text-align: right;\">\n",
       "      <th></th>\n",
       "      <th>text</th>\n",
       "      <th>label</th>\n",
       "    </tr>\n",
       "  </thead>\n",
       "  <tbody>\n",
       "    <tr>\n",
       "      <th>0</th>\n",
       "      <td>Kunjungan Prabowo ini untuk meresmikan dan men...</td>\n",
       "      <td>Sumber Daya Alam</td>\n",
       "    </tr>\n",
       "    <tr>\n",
       "      <th>1</th>\n",
       "      <td>RT Anies dapat tepuk tangan meriah saat jadi R...</td>\n",
       "      <td>Politik</td>\n",
       "    </tr>\n",
       "    <tr>\n",
       "      <th>2</th>\n",
       "      <td>@CIqXqwGAT04tMtx4OCATxjoVq7vv/Y8HeYaIOgMFg8Y= ...</td>\n",
       "      <td>Demografi</td>\n",
       "    </tr>\n",
       "    <tr>\n",
       "      <th>3</th>\n",
       "      <td>RT @L3R8XFBw3WGbxRPSj0/0hHZTbqVGX7qtfwRg9zmhK7...</td>\n",
       "      <td>Politik</td>\n",
       "    </tr>\n",
       "    <tr>\n",
       "      <th>4</th>\n",
       "      <td>Anies Baswedan Harap ASN termasuk TNI dan Polr...</td>\n",
       "      <td>Politik</td>\n",
       "    </tr>\n",
       "    <tr>\n",
       "      <th>...</th>\n",
       "      <td>...</td>\n",
       "      <td>...</td>\n",
       "    </tr>\n",
       "    <tr>\n",
       "      <th>4995</th>\n",
       "      <td>RT @l1DsGGe2xObT3t72dHwqlT58X7jvEYtEnauZIZSYwS...</td>\n",
       "      <td>Politik</td>\n",
       "    </tr>\n",
       "    <tr>\n",
       "      <th>4996</th>\n",
       "      <td>Masyarakat yakin bahwa Prabowo-Gibran memiliki...</td>\n",
       "      <td>Politik</td>\n",
       "    </tr>\n",
       "    <tr>\n",
       "      <th>4997</th>\n",
       "      <td>imo both are irrational but yg satu jauh lebih...</td>\n",
       "      <td>Ekonomi</td>\n",
       "    </tr>\n",
       "    <tr>\n",
       "      <th>4998</th>\n",
       "      <td>@cIIGSdjaPrmAQY1E4gWnLpIZSdyQn8ZMhjJzgOsxfRM= ...</td>\n",
       "      <td>Pertahanan dan Keamanan</td>\n",
       "    </tr>\n",
       "    <tr>\n",
       "      <th>4999</th>\n",
       "      <td>Acara ini tidak hanya memasak, tetapi Calon Pr...</td>\n",
       "      <td>Sumber Daya Alam</td>\n",
       "    </tr>\n",
       "  </tbody>\n",
       "</table>\n",
       "<p>5000 rows × 2 columns</p>\n",
       "</div>"
      ],
      "text/plain": [
       "                                                   text  \\\n",
       "0     Kunjungan Prabowo ini untuk meresmikan dan men...   \n",
       "1     RT Anies dapat tepuk tangan meriah saat jadi R...   \n",
       "2     @CIqXqwGAT04tMtx4OCATxjoVq7vv/Y8HeYaIOgMFg8Y= ...   \n",
       "3     RT @L3R8XFBw3WGbxRPSj0/0hHZTbqVGX7qtfwRg9zmhK7...   \n",
       "4     Anies Baswedan Harap ASN termasuk TNI dan Polr...   \n",
       "...                                                 ...   \n",
       "4995  RT @l1DsGGe2xObT3t72dHwqlT58X7jvEYtEnauZIZSYwS...   \n",
       "4996  Masyarakat yakin bahwa Prabowo-Gibran memiliki...   \n",
       "4997  imo both are irrational but yg satu jauh lebih...   \n",
       "4998  @cIIGSdjaPrmAQY1E4gWnLpIZSdyQn8ZMhjJzgOsxfRM= ...   \n",
       "4999  Acara ini tidak hanya memasak, tetapi Calon Pr...   \n",
       "\n",
       "                        label  \n",
       "0            Sumber Daya Alam  \n",
       "1                     Politik  \n",
       "2                   Demografi  \n",
       "3                     Politik  \n",
       "4                     Politik  \n",
       "...                       ...  \n",
       "4995                  Politik  \n",
       "4996                  Politik  \n",
       "4997                  Ekonomi  \n",
       "4998  Pertahanan dan Keamanan  \n",
       "4999         Sumber Daya Alam  \n",
       "\n",
       "[5000 rows x 2 columns]"
      ]
     },
     "execution_count": 4,
     "metadata": {},
     "output_type": "execute_result"
    }
   ],
   "source": [
    "dataset"
   ]
  },
  {
   "cell_type": "code",
   "execution_count": 5,
   "id": "491728f7",
   "metadata": {},
   "outputs": [],
   "source": [
    "HASHTAG_PATTERN = re.compile(r'#\\w+')\n",
    "MENTION_PATTERN = re.compile(r'@\\S+\\s*')\n",
    "URL_PATTERN = re.compile(r'https?://\\S+')\n",
    "RE_BRACKET_PATTERN = re.compile(r'\\[RE[^\\]]*\\]')\n",
    "NON_ASCII_PATTERN = re.compile(r'[^\\x00-\\x7F]+')\n",
    "DOT_BETWEEN_NUMBERS_PATTERN = re.compile(r'(?<=\\d)\\.(?=\\d)')\n",
    "PUNCTUATION_PATTERN = regex.compile(r'[\\p{P}\\p{S}]')\n",
    "RT_PATTERN = re.compile(r'\\bRT\\b')\n",
    "REPEAT2_PATTERN = re.compile(r'^[a-zA-Z]+2$')\n",
    "\n",
    "def split_hashtag(match):\n",
    "    \"\"\"Split hashtag into words based on camel case and number-letter transitions.\"\"\"\n",
    "    word = match.group(0)[1:]\n",
    "    word = re.sub(r'(?<=[a-z])([A-Z])', r' \\1', word)\n",
    "    word = re.sub(r'([A-Za-z])(\\d)', r'\\1 \\2', word)\n",
    "    word = re.sub(r'(\\d)([A-Za-z])', r'\\1 \\2', word)\n",
    "    return word\n",
    "\n",
    "def repeat_word_if_endswith2(word):\n",
    "    \"\"\"Repeat the word if it ends with '2'.\"\"\"\n",
    "    return f\"{word[:-1]} {word[:-1]}\" if REPEAT2_PATTERN.match(word) else word\n",
    "\n",
    "def replace_number_suffixes(text):\n",
    "    \"\"\"Replace %, jt, m, t with Indonesian words.\"\"\"\n",
    "    text = re.sub(r'(\\d+)\\s*%', r'\\1 persen', text)\n",
    "    text = re.sub(r'(\\d+)\\s*jt\\b', r'\\1 juta', text, flags=re.IGNORECASE)\n",
    "    text = re.sub(r'(\\d+)\\s*m\\b', r'\\1 milyar', text, flags=re.IGNORECASE)\n",
    "    text = re.sub(r'(\\d+)\\s*t\\b', r'\\1 triliun', text, flags=re.IGNORECASE)\n",
    "    return text\n",
    "\n",
    "def clean_text(text):\n",
    "    \"\"\"Clean and normalize Indonesian tweet text.\"\"\"\n",
    "    text = str(text)\n",
    "    text = RT_PATTERN.sub('', text)\n",
    "    text = MENTION_PATTERN.sub('', text)\n",
    "    text = URL_PATTERN.sub('', text)\n",
    "    text = RE_BRACKET_PATTERN.sub('', text)\n",
    "    text = HASHTAG_PATTERN.sub(split_hashtag, text)\n",
    "    text = NON_ASCII_PATTERN.sub(' ', text)\n",
    "    text = DOT_BETWEEN_NUMBERS_PATTERN.sub('', text)\n",
    "    text = PUNCTUATION_PATTERN.sub(' ', text)\n",
    "    text = ' '.join(repeat_word_if_endswith2(w) for w in text.split())\n",
    "    text = replace_number_suffixes(text)\n",
    "    text = replace_word_elongation(text)\n",
    "    text = replace_slang(text)\n",
    "    text = re.sub(r'\\s+', ' ', text).strip()\n",
    "    return text.lower()"
   ]
  },
  {
   "cell_type": "code",
   "execution_count": 9,
   "id": "82c70886",
   "metadata": {},
   "outputs": [
    {
     "data": {
      "application/vnd.microsoft.datawrangler.viewer.v0+json": {
       "columns": [
        {
         "name": "index",
         "rawType": "int64",
         "type": "integer"
        },
        {
         "name": "text",
         "rawType": "object",
         "type": "string"
        },
        {
         "name": "cleaned_text",
         "rawType": "object",
         "type": "string"
        },
        {
         "name": "label",
         "rawType": "object",
         "type": "string"
        }
       ],
       "ref": "afec2593-cb35-464e-bb6c-09a61f221442",
       "rows": [
        [
         "0",
         "Kunjungan Prabowo ini untuk meresmikan dan menyerahkan proyek bantuan air bersih di lima titik. #IndonesiaSentris #IndonesiaHijau #02Melanjutkan #AnakMudaIndonesiaEmas Prabowo Subianto",
         "kunjungan prabowo ini untuk meresmikan dan menyerahkan proyek bantuan air bersih di lima titik indonesia sentris indonesia hijau 02 melanjutkan anak muda indonesia emas prabowo subianto",
         "Sumber Daya Alam"
        ],
        [
         "1",
         "RT Anies dapat tepuk tangan meriah saat jadi Rektor mewajibkan mata kuliah anti-korupsi untuk memutus mata rantai korupsi.. #AminMiskinkanKoruptor https://t.co/hgXsoQGaEa [RE ekowboy2]",
         "anies dapat tepuk tangan meriah saat jadi rektor mewajibkan mata kuliah anti korupsi untuk memutus mata rantai korupsi amin miskinkan koruptor",
         "Politik"
        ],
        [
         "2",
         "@CIqXqwGAT04tMtx4OCATxjoVq7vv/Y8HeYaIOgMFg8Y= emng bener sih, pendukung 01 ada yg goblok, begitu jg dg pendukung 02.. hnya sj menurut pak Ridwan Kamil skemanya terbalik, klo 01 MAYORITAS PENDIDIKAN MENENGAH ATAS (artinya ada jg pendidikan rendah yg milih",
         "memang benar sih pendukung 01 ada yang goblok begitu juga dengan pendukung 02 hanya saja menurut pak ridwan kamil skemanya terbalik kalo 01 mayoritas pendidikan menengah atas artinya ada juga pendidikan rendah yang memilih",
         "Demografi"
        ],
        [
         "3",
         "RT @L3R8XFBw3WGbxRPSj0/0hHZTbqVGX7qtfwRg9zmhK7Q= Sewaktu anies bersikap kritis ke kinerja pak prabowo dianggap engga sopan karena dianggap kurang menghormati orang tua, giliran skrg gibran yg tengil dan sok kritis malah dianggap kritis dan keras. Apakah ini tidak standar ganda? Ã°ÂŸÂ¤Â­ [RE coldthem]",
         "sewaktu anies bersikap kritis ke kinerja pak prabowo dianggap enggak sopan karena dianggap kurang menghormati orang tua giliran sekarang gibran yang tengil dan sok kritis malah dianggap kritis dan keras apakah ini tidak standar ganda",
         "Politik"
        ],
        [
         "4",
         "Anies Baswedan Harap ASN termasuk TNI dan Polri Pegang Sumpahnya dalam Pemilu https://t.co/QRQZ3wI8YP",
         "anies baswedan harap asn termasuk tni dan polri pegang sumpahnya dalam pemilu",
         "Politik"
        ],
        [
         "5",
         "RT Duh jangan sampai Pak lurah denger nih Ã°ÂŸÂ¤Â­ Di Acara Hajatan Rakyat, Puluhan Ribu Warga di Kendal Serukan Ã¢Â€ÂœGanjar PresidenÃ¢Â€Â Kehadiran @0Zdeh9QcTWu+z+fS3hRaTcFuSLRh56REFyRLq4/Jdlc= menjadi magnet bagi puluhan ribu warga untuk datang menghadiri Hajatan Rakyat Ganjar-Mahfud. Besarnya antusiasme warga menjadi bukti bahwa Jawa Tengah tetap menjadi kandang banteng. #GanjarMahfud2024 #TabrakProfMahfud [RE DS_yantie]",
         "duh jangan sampai pak lurah dengar nih di acara hajatan rakyat puluhan ribu warga di kendal serukan ganjar presiden kehadiran menjadi magnet bagi puluhan ribu warga untuk datang menghadiri hajatan rakyat ganjar mahfud besarnya antusiasme warga menjadi bukti bahwa jawa tengah tetap menjadi kandang banteng ganjar mahfud 2024 tabrak prof mahfud",
         "Politik"
        ],
        [
         "6",
         "Prabowo minta Kemenhan dan Tim Satgas Air Unhan kaji bantuan air di Sukabumi. dekade08 Prabowo - Gibran",
         "prabowo meminta kemenhan dan tim satgas air unhan kaji bantuan air di sukabumi dekade08 prabowo gibran",
         "Pertahanan dan Keamanan"
        ],
        [
         "7",
         "RT Anies: Ya Allah Sibukkanlah Orang Zalim Agar Dapat Kejahatan dari Orang Zalim Lainnya https://t.co/1VK6BWKu2s [RE OposisiCerdas]",
         "anies ya allah sibukkanlah orang zalim agar dapat kejahatan dari orang zalim lainnya",
         "Politik"
        ],
        [
         "8",
         "RT Abah @znOMP7ZMVU9dMuMNA/cIazC9q5+hgwVkTsQNdQLKgTc= itu bapa kami, bapa yg berikan perhatian untuk pendidikan anak anak Papua jadi pintar pintar. Gerakan Indonesia mengajar tak bisa di lupakan sama warga Papua. Kami ingin bapa Anies jadi Presiden. https://t.co/FCdf6J1L3Z [RE LANGKAHANIES]",
         "abah itu bapa kami bapa yang berikan perhatian untuk pendidikan anak anak papua jadi pintar pintar gerakan indonesia mengajar tak bisa di lupakan sama warga papua kami ingin bapa anies jadi presiden",
         "Politik"
        ],
        [
         "9",
         "RT Bawaslu dimaki \"JANCUK\" sama warga garaÃ‚Â² mencopot spanduk Ganjar Mahfud, sementara spanduk Capres lain tidak dicopot. Bawaslu rasa tim sukses. Ã°ÂŸÂ˜Âª #AsalBukanPrabowo #OrdeBaruReborn https://t.co/AcubW2OFlq [RE 03__nakula]",
         "bawaslu dimaki jancuk sama warga gara mencopot spanduk ganjar mahfud sementara spanduk capres lain tidak dicopot bawaslu rasa tim sukses asal bukan prabowo orde baru reborn",
         "Politik"
        ],
        [
         "10",
         "RT Beberapa isu basi terkait @hs5jZceksZrPM0NiWtKnsbSbZ1XyaZtU4OHkKgrcDk8= / @wEOWbjbQXX93e2r1/7iXQ1mV/pxGE9yrnUdgURpW0Y0= dan fakta sebenarnya bisa dilihat di https://t.co/3aR3K0Plf4. Beberapa diantaranya: Ã¢Â€Â¢ Anies akan mengganti Pancasila dengan sistem Khilafah: https://t.co/jfzZ6vpU11 Ã¢Â€Â¢ Terkait toleransi berbagai penganut agamaÃ¢Â€Â”Anies blunder soal data rumah ibadah di Jakarta: https://t.co/nGdOmaVOEO Ã¢Â€Â¢ Anies mengkhianati Prabowo untuk jadi Capres: https://t.co/ioe8x09UpZ Saat kebenaran dan fakta atas suatu hal telah jelas, tapi tetap disangkalÃ¢Â€Â”entah karena niat jahat, nafsu, atau kepentingan pribadiÃ¢Â€Â¦benar bahwa seringkali yang buta itu bukan mata, tapi hati yang buta. [RE borryshasian]",
         "beberapa isu basi terkait dan fakta sebenarnya bisa dilihat di beberapa diantaranya anies akan mengganti pancasila dengan sistem khilafah terkait toleransi berbagai penganut agama anies blunder soal data rumah ibadah di jakarta anies mengkhianati prabowo untuk jadi capres saat kebenaran dan fakta atas suatu hal telah jelas tapi tetap disangkal entah karena niat jahat nafsu atau kepentingan pribadi benar bahwa seringkali yang buta itu bukan mata tapi hati yang buta",
         "Ideologi"
        ],
        [
         "11",
         "RT Ganjar Pranowo-Mahfud MD menekankan pentingnya persiapan dalam kebutuhan dasar alutsista dari tiga matra, yaitu darat, laut, dan udara.Ganjar Mahfud M3nang. #GanjarMahfudRebound #GanjarPranowoPilihanUmat #JNK #TemanAlamGanjar #AtikohIbuNegara #Apri0801 https://t.co/kxi9ei6A46 [RE AllaaGa1]",
         "ganjar pranowo mahfud md menekankan pentingnya persiapan dalam kebutuhan dasar alutsista dari tiga matra yaitu darat laut dan udara ganjar mahfud m3nang ganjar mahfud rebound ganjar pranowo pilihan umat jnk teman alam ganjar atikoh ibu negara apri 0801",
         "Pertahanan dan Keamanan"
        ],
        [
         "12",
         "RT Calon presiden (capres) nomor urut 1 Anies Baswedan @vaVbSLyok3xdwCAiYpXkJarkzroaILpIRIdpu/z3CJE= sudah siap dengan kemampuannya menghadapi debat ketiga. Debat ketiga akan menyangkut tema soal pertahanan, keamanan, hubungan internasional, dan geopolitik. Download #metrotvxtend di app store & play store #aniesbaswedan #pemilu2024 #debatcapres [RE Metro_TV]",
         "calon presiden capres nomor urut 1 anies baswedan sudah siap dengan kemampuannya menghadapi debat ketiga debat ketiga akan menyangkut tema soal pertahanan keamanan hubungan internasional dan geopolitik download metrotvxtend di apa store play store aniesbaswedan pemilu 2024 debatcapres",
         "Pertahanan dan Keamanan"
        ],
        [
         "13",
         "Capres Ganjar Pranowo punya rencana besar! Dia bakal bersinergi sama perguruan tinggi buat program yang membawa perubahan positif. #GanjarMahfudRebound #GanjarPranowoPilihanUmat #JNK https://t.co/L8MREZKfXz",
         "capres ganjar pranowo punya rencana besar dia bakal bersinergi sama perguruan tinggi buat program yang membawa perubahan positif ganjar mahfud rebound ganjar pranowo pilihan umat jnk",
         "Politik"
        ],
        [
         "14",
         "@YcALzIavlM9mN2WtCz3omAmFsnJU8aBm4seMBHJD2vc= @tDtdY83jBV3k81lsAOhmIc1vK+/zGxcIdKVOWIu29xI= @Knh1OhMlSdWjOdPeGirPIxWUf4qXOOU/iNP8ZBTeaLE= @K7Z2vGLl2OuxDbFwAiP8MxCqp07lzjNsfLWVZu5Ipz4= Dengan pendapatan APBD jumbo, paling besar se-Indonesia, mencapai Rp 77",
         "dengan pendapatan apbd jumbo paling besar se indonesia mencapai rp 77",
         "Ekonomi"
        ],
        [
         "15",
         "@VHznvAltictn2PtvpMTLB+H/VJ6L603oe1oRpSZJtO4= Kenyataan yg timbul, menghancurkan pribadi yg isinya penuh kebencian ke AyahBOWO AdalahKITA menimbulkan dampak emosional di pemilih. #MunculFenomenaPAKbowo DukunganTulus Untuk02 @K5CWVm/0TA1XpCHveYhOEBrkxUugg2",
         "kenyataan yang timbul menghancurkan pribadi yang isinya penuh kebencian ke ayahbowo adalahkita menimbulkan dampak emosional di pemilih muncul fenomena pakbowo dukungantulus untuk02",
         "Politik"
        ],
        [
         "16",
         "RT Mas Ganjar bawa data dan ngasih pertanyaan berdasar data. Bisa saja dijawab oleh Pak Prabowo tanpa bilang data dari Mas Ganjar salah. Tapi karena Pak Prabowo bilang datanya salah, wajar jika Mas Ganjar minta ditunjukkan mana data yang benar. Gak ada urusan sama waktu yang singkat. [RE pangeransiahaan]",
         "mas ganjar bawa data dan mengasih pertanyaan berdasar data bisa saja dijawab oleh pak prabowo tanpa bilang data dari mas ganjar salah tapi karena pak prabowo bilang datanya salah wajar jika mas ganjar meminta ditunjukkan mana data yang benar enggak ada urusan sama waktu yang singkat",
         "Politik"
        ],
        [
         "17",
         "RT Trending On Twitter ( X) Anies Bubble meroket - Fenomena Fans K-pop join AMIN -ISME https://t.co/SzQctyOJoQ [RE Yurissa_Samosir]",
         "trending on twitter kali anies bubble meroket fenomena fan ke pop join amin isme",
         "Sosial Budaya"
        ],
        [
         "18",
         "RT @BUMlUyYYGIARoOH2Nx/iuCAFpXprUov+NM3cvB2DtYI= Wait wait pak. Ada bukti pak anies gunakan politik identitas ? Bukankah justru ahok yang terang terangan. Bahkan sebelum pilkada saja sudah memantik perselisihan misal gunakan password wifi dengan kata \"kafir\". Berpikir adil itu memang sulit pak. https://t.co/tCzvhvR2G9 [RE iahk25]",
         "wait wait pak ada bukti pak anies gunakan politik identitas bukankah justru ahok yang terang terangan bahkan sebelum pilkada saja sudah memantik perselisihan misal gunakan password wifi dengan kata kafir berpikir adil itu memang sulit pak",
         "Politik"
        ],
        [
         "19",
         "RT Siti Atikoh mengunjungi kantor TPD Ganjar-Mahfud Sumatera Selatan. Atikoh mendapat kejutan dari penyandang tuna rungu simpatisan Ganjar-Mahfud di Hari Tuna Rungu Nasional 2024. Atikoh diberikan kejutan berupa kaos warna merah, bertuliskan Ibu Negara Indonesia di bagian depan. Tak hanya diberikan kejutan, Atikoh juga diajarkan Bahasa Isyarat. #PDIPerjuangan #HUTPDIPerjuanganKe51 #KebenaranPastiMenang #SatyamEvaJayate #GanjarMahfud2024 #MEnangkanGAnjar #Nomor3Pilihanku [RE PDI_Perjuangan]",
         "siti atikoh mengunjungi kantor tpd ganjar mahfud sumatera selatan atikoh mendapat kejutan dari penyandang tuna rungu simpatisan ganjar mahfud di hari tuna rungu nasional 2024 atikoh diberikan kejutan berupa kaos warna merah bertuliskan ibu negara indonesia di bagian depan tak hanya diberikan kejutan atikoh juga diajarkan bahasa isyarat pdiperjuangan hutpdiperjuangan ke 51 kebenaran pasti menang satyam eva jayate ganjar mahfud 2024 menangkan ganjar nomor 3 pilihanku",
         "Politik"
        ],
        [
         "20",
         "RT Abah Anies ingin mengangkat martabat petani agar tidak terus menerus menerima bansos karena penghasilannya cukup.. #AMINAjaDulu https://t.co/txIvBhLvn2 [RE ekowboy2]",
         "abah anies ingin mengangkat martabat petani agar tidak terus menerus menerima bansos karena penghasilannya cukup aminaja dulu",
         "Sosial Budaya"
        ],
        [
         "21",
         "Calon Presiden RI Ganjar Pranowo yakin, bersama Mahfud MD, regulasi hukum investasi bakal lebih mudah dipahami oleh semua pihak.#GanjarMahfudRebound #GanjarPranowoPilihanUmat #JNK https://t.co/v6hsuOEr84",
         "calon presiden ri ganjar pranowo yakin bersama mahfud md regulasi hukum investasi bakal lebih mudah dipahami oleh semua pihak ganjar mahfud rebound ganjar pranowo pilihan umat jnk",
         "Politik"
        ],
        [
         "22",
         "RT Pak Michael Gaya bicara keras dan terkesan emosional tapi tetap berisiÃ°ÂŸÂ¥Â¹ \" Tidak Usah jangan, Berarti Prabowo itu sudah menggunakan kekerasan militer untuk orang yang sifatnya \" #Anies Pak Lurah Bu Hesti Anies Deserve Better Asnawi Videotron Pegang Miftah Papua Amien Rais https://t.co/VIKVDzL1Sr [RE Riweh_Banget]",
         "pak michael gaya bicara keras dan terkesan emosional tapi tetap berisi tidak usah jangan berarti prabowo itu sudah menggunakan kekerasan militer untuk orang yang sifatnya anies pak lurah bu hesti anies deserve better asnawi videotron pegang miftah papua amien rais",
         "Politik"
        ],
        [
         "23",
         "Paslon 03 Ganjar Pranowo yakin, bersama Mahfud MD, regulasi hukum investor di Indonesia bakal lebih bersahabat dan terukur.#GanjarMahfudRebound #GanjarPranowoPilihanUmat #JNK https://t.co/RIoiHBQcPU",
         "paslon 03 ganjar pranowo yakin bersama mahfud md regulasi hukum investor di indonesia bakal lebih bersahabat dan terukur ganjar mahfud rebound ganjar pranowo pilihan umat jnk",
         "Politik"
        ],
        [
         "24",
         "RT ANIES SOSOK AYAH YANG PENUH KEHANGATAN - Ã¬Â• Ã«Â‹ÂˆÃ¬ÂŠÂ¤Ã«ÂŠÂ” Ã«Â”Â°Ã«ÂœÂ»Ã­Â•Â¨Ã¬ÂÂ´ ÃªÂ°Â€Ã«Â“ÂÃ­Â•Âœ Ã¬Â•Â„Ã«Â²Â„Ã¬Â§Â€Ã¬ÂÂ˜ Ã«ÂªÂ¨Ã¬ÂŠÂµÃ¬Âž Ã«Â‹ÂˆÃ«Â‹Â¤ Pak @tMhERoSGzAGffRRtESW3sH2i8KRZA00OpeRvhkolzv0= mmg sosok Ayah yg Penuh Kehangatan. Lihat dlm tayangan video ini, tangannya lentur banget menggendong anak kecil. Tampak Luwes, ngga kaku dan ngga buat-buat.Ã‚ Pasti anak-anaknya jg sering merasakan gendongan, pelukan dan pelukan beliau. - \"Kekuatan sejati adalah ketenangan di pelukan Ayah.\" - #aniesbubbleÃ‚ #AniesMuhaimin2024 [RE papa_loren]",
         "anies sosok ayah yang penuh kehangatan pak memang sosok ayah yang penuh kehangatan lihat dalam tayangan video ini tangannya lentur banget menggendong anak kecil tampak luwes enggak kaku dan enggak buat buat pasti anak anaknya juga sering merasakan gendongan pelukan dan pelukan beliau kekuatan sejati adalah ketenangan di pelukan ayah aniesbubble anies muhaimin 2024",
         "Pertahanan dan Keamanan"
        ],
        [
         "25",
         "Capres Ganjar Pranowo nggak main-main nih! Kolaborasi dengan perguruan tinggi buat program edukatif yang oke punya. #GanjarMahfudRebound #GanjarPranowoPilihanUmat #JNK https://t.co/aDzMKmTRYj",
         "capres ganjar pranowo enggak main main nih kolaborasi dengan perguruan tinggi buat program edukatif yang oke punya ganjar mahfud rebound ganjar pranowo pilihan umat jnk",
         "Politik"
        ],
        [
         "26",
         "RT Projo Kawal Prabowo Gibran Menang Sekali Putaran Ã¢ÂœÂŠÃ°ÂŸÂ‡Â®Ã°ÂŸÂ‡Â© #projo #jokowi #setiadigarisrakyat https://t.co/9WT8h4Iizh [RE Projo_Pusat]",
         "projo kawal prabowo gibran menang sekali putaran projo jokowi setiadigarisrakyat",
         "Politik"
        ],
        [
         "27",
         "tempodotco semangat pak Ã‚ Ã‚ kami akan selalu m3nddukung muÃ‚ Ganjar Mahfud Hebat #Coblos3 #3GM #GanjarMahfudM3nangDebat #DebatCapres https://t.co/K7EM7R7P2v",
         "tempodotco semangat pak kami akan selalu m3nddukung mu ganjar mahfud hebat coblos 3 3 gm ganjar mahfud sama 3 nang debat debat capres",
         "Politik"
        ],
        [
         "28",
         "RT Anies sesuai selera masyarakat Sumatera Barat. https://t.co/6phxEXGjc6 [RE kamalmiko]",
         "anies sesuai selera masyarakat sumatera barat",
         "Sosial Budaya"
        ],
        [
         "29",
         "RT Abah Anies Baswedan &amp; ibu Fery Farhati tiba di Pekanbaru Kampanye Akbar kedua hari ini Ã°ÂŸÂ”Â¥ https://t.co/XcZxFscBhw [RE Mdy_Asmara1701]",
         "abah anies baswedan amp ibu fery farhati tiba di pekanbaru kampanye akbar kedua hari ini",
         "Politik"
        ],
        [
         "30",
         "Atikoh Beberkan Solusi Ganjar-Mahfud Atasi Harga Pangan Naik https://t.co/m8OARyG630",
         "atikoh beberkan solusi ganjar mahfud atasi harga pangan naik",
         "Politik"
        ],
        [
         "31",
         "RT Giliran Buruh Soloraya Deklarasi Dukung Prabowo-Gibran - Soloraya https://t.co/DBaQCYeqKV https://t.co/hjZXhvK0oi #IndonesiaKuatIndonesiaMaju #DiplomasiProgresif02 #02Melanjutkan [RE doddy_h4312]",
         "giliran buruh soloraya deklarasi dukung prabowo gibran soloraya indonesia kuat indonesia maju diplomasi progresif 02 02 melanjutkan",
         "Politik"
        ],
        [
         "32",
         "Capres Cawapres Ganjar Pranowo dan Mahfud MD mengajak semua pihak untuk bersatu menjaga Konstitusi atau aturan dasar negara.#JNK #GanjarMahfudRebound #GanjarPranowoPilihanUmat https://t.co/VdpFFxOeUQ",
         "capres cawapres ganjar pranowo dan mahfud md mengajak semua pihak untuk bersatu menjaga konstitusi atau aturan dasar negara jnk ganjar mahfud rebound ganjar pranowo pilihan umat",
         "Ideologi"
        ],
        [
         "33",
         "RT Raja dangdut Pak Haji Rhoma irama Bertanya Tentang seni dan Film Jika Pak Anies Terpilih jadi Presiden Desak ANIES &amp; Slepet Imin di JI-EXPO Kemayoran Jakarta pusat Hari ini Senin 29 Januari 2024 https://t.co/RrXqDp1oVE [RE Yurissa_Samosir]",
         "raja dangdut pak haji rhoma irama bertanya tentang seni dan film jika pak anies terpilih jadi presiden desak anies amp slepet imin di ji expo kemayoran jakarta pusat hari ini senin 29 januari 2024",
         "Politik"
        ],
        [
         "34",
         "Capres Ganjar Pranowo akan memberikan ruang bagi masyarakat untuk memberikan masukan dan saran dalam evaluasi pasal karet UU ITE.#JNK #GanjarMahfudRebound #GanjarPranowoPilihanUmat https://t.co/P6xBly0eos",
         "capres ganjar pranowo akan memberikan ruang bagi masyarakat untuk memberikan masukan dan saran dalam evaluasi pasal karet lu ite jnk ganjar mahfud rebound ganjar pranowo pilihan umat",
         "Politik"
        ],
        [
         "35",
         "RT Ini musuh utama gen z, Anies bertekad basmi praktik ordal dalam penerimaan tenaga kerja di sektor swasta &amp; pemerintahan dg penegakan aturan.. #AMINAjaDulu https://t.co/kcras6WuXs [RE ekowboy2]",
         "ini musuh utama gen saja anies bertekad basmi praktik ordal dalam penerimaan tenaga kerja di sektor swasta amp pemerintahan dengan penegakan aturan aminaja dulu",
         "Politik"
        ],
        [
         "36",
         "Debat Capres-Cawapres ke-3, Anies menyatakan nilai Kemenhan dalam melaksanakan kebijakan nilainya 11 dari 100. Jadi Menteri saja tidak layak, menurut Paslon 01.",
         "debat capres cawapres ke 3 anies menyatakan nilai kemenhan dalam melaksanakan kebijakan nilainya 11 dari 100 jadi menteri saja tidak layak menurut paslon 01",
         "Politik"
        ],
        [
         "37",
         "Pasangan Duet Capres Cawapres Ganjar Pranowo Mahfud MD, motor perubahan. Kredit 35% untuk koprasi dan UMKM, jadi andalan bisnis lokal. Sukses terus, teman-teman.JN18A #JNK #GanjarMahfudRebound #GanjarPranowoPilihanUmat",
         "pasangan duet capres cawapres ganjar pranowo mahfud md motor perubahan kredit 35 untuk koprasi dan umkm jadi andalan bisnis lokal sukses terus teman teman jn18a jnk ganjar mahfud rebound ganjar pranowo pilihan umat",
         "Ekonomi"
        ],
        [
         "38",
         "RT Anak Muda Indonesia, the future of this nation is in your hand. It's the time for change. Anies for President..sampaikan yg harus disampaikan kepada teman lainnya karena sudah saatnya adu ide &amp; gagasan...tunjukan karya-karya Pak Anies untuk Perubahan Indonesia lebih baik lagi https://t.co/S9S9Kanr0z [RE Yurissa_Samosir]",
         "anak muda indonesia the future of this nation is ini your hand itu si the time for change anies for president sampaikan yang harus disampaikan kepada teman lainnya karena sudah saatnya adu ide amp gagasan tunjukkan karya karya pak anies untuk perubahan indonesia lebih baik lagi",
         "Ideologi"
        ],
        [
         "39",
         "RT Pak AniesÃ¢Â€Â™s post has reached 26.000 likes and 1.350.573 on Dialog Capres w/ Kadin, tvOneNews Youtube in 1 Days 15 Hour 27 Minutes. Ã¢Â€Â” It is the fastest and highest post to reach 26k likes and 1.3M likes among capresÃ¢Â€Â™s members #ANIES #Ã¬Â•Â„Ã«Â‹ÂˆÃ¬ÂŠÂ¤ #AniesAtKadin https://t.co/skRZA4AWlp [RE aniesbubble]",
         "pak anies si post has reached 26000 likes and 1350573 on dialog capres gue kadin tvonenews youtube ini 1 days 15 hour 27 minutes itu is the fastest and highest post tapi reach 26k likes and 13 milyar likes among capres si members anies anies at kadin",
         "Sosial Budaya"
        ],
        [
         "40",
         "RT According to Prabowo, Gaza is opressed because they don't have a sufficient military power. This is such a tone-deaf statement coming from a Minister of Defense. [RE WAPamungkas]",
         "according tapi prabowo gaza is opressed because they don t have a sufficient military power this is such a tone deaf statement coming from a minister of defense",
         "Pertahanan dan Keamanan"
        ],
        [
         "41",
         "RT Ini kejam, warga disitu sudah bersedia dibangun JIS dgn janji Anies utk memabngun rumah susun bagi mereka. Stlh rumah itu terbangun mrk ga diberikan haknya. Padahal Anies selaku Gubernur sll menepati janjinya. Kampung akuarium, kampung kunir dll. Apa yg salah rakyat mendapat rmh? [RE GeiszChalifah]",
         "ini kejam warga disitu sudah bersedia dibangun jis dengan janji anies untuk memabngun rumah susun bagi mereka setelah rumah itu terbangun mereka enggak diberikan haknya padahal anies selaku gubernur sl menepati janjinya kampung akuarium kampung kunir dulu apa yang salah rakyat mendapat rumah",
         "Sosial Budaya"
        ],
        [
         "42",
         "RT Prabowo-Gibran akan Terapkan 17 Program Ini untuk Melancarkan Ekonomi Biru - Internasional Kontan https://t.co/3wJ1RkX4NX #MenangSeputaran [RE AzzrielAzaryahu]",
         "prabowo gibran akan terapkan 17 program ini untuk melancarkan ekonomi biru internasional kontan menang seputaran",
         "Ekonomi"
        ],
        [
         "43",
         "RT VIRAL Anies Baswedan Dapat Ancaman Penembakan, Tim Hukum AMIN Siap Tempuh Jalur Hukum! https://t.co/pnFEy0cLgj [RE democrazymedia]",
         "viral anies baswedan dapat ancaman penembakan tim hukum amin siap tempuh jalur hukum",
         "Pertahanan dan Keamanan"
        ],
        [
         "44",
         "RT Kasihan Pendukung Prabowo udah dibela belain masuk penjara gak diakui..... https://t.co/8l6IbwcGwC [RE Catatan_ali7]",
         "kasihan pendukung prabowo sudah dibela membela masuk penjara enggak diakui",
         "Politik"
        ],
        [
         "45",
         "tempodotco Ayo Ganjar, tuntaskan permasalahan yang ada di Indonesia, pasti bisa pasti m3nang Ã‚ Ã‚ semuakerjaÃ‚ Ganjar Mahfud Hebat #Coblos3 #3GM #DuluJokowiSekarangGanjar ayahbowo adalahkita Ã°ÂŸÂ˜Â€ https://t.co/zRmqeHufEI",
         "tempodotco ayo ganjar tuntaskan permasalahan yang ada di indonesia pasti bisa pasti m3nang semuakerja ganjar mahfud hebat coblos 3 3 gm dulu jokowi sekarang ganjar ayahbowo adalahkita",
         "Politik"
        ],
        [
         "46",
         "RT Wiranto langsung bergerak cepat untuk memberikan dukungan kepada Prabowo - Gibran. #WirantoGasPolDukung02 https://t.co/vkk1Hbk5Wl [RE AlfisyahriFarah]",
         "wiranto langsung bergerak cepat untuk memberikan dukungan kepada prabowo gibran wiranto gas pol dukung 02",
         "Politik"
        ],
        [
         "47",
         "RT gua beneran sedih banget kenapa ya orang tuh susah menerima fakta kalo prabowo itu war criminal dan zionistÃ¢Â€Â¦.. kek thereÃ¢Â€Â™s so many possibilities kalo beliau kepilih bakal regress demokrasi kita, bakal lebih otoriter, bahkan banyak menteri progresif yg pasti akan didepakÃ¢Â€Â¦ [RE moonincancer__]",
         "gua benaran sedih banget kenapa ya orang tuh susah menerima fakta kalo prabowo itu war criminal dan zionist kayak there si sok many possibilities kalo beliau kepilih bakal regres demokrasi kita bakal lebih otoriter bahkan banyak menteri progresif yang pasti akan didepak",
         "Politik"
        ],
        [
         "48",
         "RT Lautan manusia sambut Capres nomor urut 1, Anies Baswedan saat laksanakan giat kampanye ke Bone, Sulawesi Selatan (Sulsel), Rabu (17/1/2024). Anies bertemu dengan masyarakat Bone di Lapangan Sepak Bola Cina. Kampanye kali ini cukup spesial lantaran ditemani oleh eks Wakil Presiden, Jusuf Kalla (JK). Melihat lautan manusia yang antusias menyapa Anies ini pun membuat dia merasa takjub, dan menegaskan bahwa uang tidak dapat mengobarkan semangat seperti ini. Simak berita selengkapnya di https://t.co/IuWcTPbHZj #HardNews_Politik #NewsOne #CariBeritaditvOne #NO01 #AniesBaswedan #Kampanye #ViralBone #Pilpres2024 #Politik #KamiKabarkanAndaPutuskan #MauMemilih #tvOneTVPemilu [RE tvOneNews]",
         "lautan manusia sambut capres nomor urut 1 anies baswedan saat laksanakan giat kampanye ke bone sulawesi selatan sulsel rabu 17 1 2024 anies bertemu dengan masyarakat bone di lapangan sepak bola cina kampanye kali ini cukup spesial lantaran ditemani oleh eks wakil presiden jusuf kalla jika melihat lautan manusia yang antusias menyapa anies ini pun membuat dia merasa takjub dan menegaskan bahwa uang tidak dapat mengobarkan semangat seperti ini simak berita selengkapnya di hard news politik news one cari beritaditv one no 01 anies baswedan kampanye viral bone pilpres 2024 politik kami kabarkan anda putuskan mau memilih tv one tvpemilu",
         "Politik"
        ],
        [
         "49",
         "RT baru kali ini ada capres yg mau peluk orang papua mencium tangan anak-Anak papua biar rakyat yang menilai !! Gak ngaruh tetap all in prabowo istirahatÃ°ÂŸÂ«Â£ Anies Deserve Better #AbahAnies #CakImin https://t.co/2lcwxzGCN0 [RE nialubis_]",
         "baru kali ini ada capres yang mau peluk orang papua mencium tangan anak anak papua biar rakyat yang menilai enggak ngaruh tetap al ini prabowo istirahat anies deserve better abah anies cak imin",
         "Politik"
        ]
       ],
       "shape": {
        "columns": 3,
        "rows": 5000
       }
      },
      "text/html": [
       "<div>\n",
       "<style scoped>\n",
       "    .dataframe tbody tr th:only-of-type {\n",
       "        vertical-align: middle;\n",
       "    }\n",
       "\n",
       "    .dataframe tbody tr th {\n",
       "        vertical-align: top;\n",
       "    }\n",
       "\n",
       "    .dataframe thead th {\n",
       "        text-align: right;\n",
       "    }\n",
       "</style>\n",
       "<table border=\"1\" class=\"dataframe\">\n",
       "  <thead>\n",
       "    <tr style=\"text-align: right;\">\n",
       "      <th></th>\n",
       "      <th>text</th>\n",
       "      <th>cleaned_text</th>\n",
       "      <th>label</th>\n",
       "    </tr>\n",
       "  </thead>\n",
       "  <tbody>\n",
       "    <tr>\n",
       "      <th>0</th>\n",
       "      <td>Kunjungan Prabowo ini untuk meresmikan dan men...</td>\n",
       "      <td>kunjungan prabowo ini untuk meresmikan dan men...</td>\n",
       "      <td>Sumber Daya Alam</td>\n",
       "    </tr>\n",
       "    <tr>\n",
       "      <th>1</th>\n",
       "      <td>RT Anies dapat tepuk tangan meriah saat jadi R...</td>\n",
       "      <td>anies dapat tepuk tangan meriah saat jadi rekt...</td>\n",
       "      <td>Politik</td>\n",
       "    </tr>\n",
       "    <tr>\n",
       "      <th>2</th>\n",
       "      <td>@CIqXqwGAT04tMtx4OCATxjoVq7vv/Y8HeYaIOgMFg8Y= ...</td>\n",
       "      <td>memang benar sih pendukung 01 ada yang goblok ...</td>\n",
       "      <td>Demografi</td>\n",
       "    </tr>\n",
       "    <tr>\n",
       "      <th>3</th>\n",
       "      <td>RT @L3R8XFBw3WGbxRPSj0/0hHZTbqVGX7qtfwRg9zmhK7...</td>\n",
       "      <td>sewaktu anies bersikap kritis ke kinerja pak p...</td>\n",
       "      <td>Politik</td>\n",
       "    </tr>\n",
       "    <tr>\n",
       "      <th>4</th>\n",
       "      <td>Anies Baswedan Harap ASN termasuk TNI dan Polr...</td>\n",
       "      <td>anies baswedan harap asn termasuk tni dan polr...</td>\n",
       "      <td>Politik</td>\n",
       "    </tr>\n",
       "    <tr>\n",
       "      <th>...</th>\n",
       "      <td>...</td>\n",
       "      <td>...</td>\n",
       "      <td>...</td>\n",
       "    </tr>\n",
       "    <tr>\n",
       "      <th>4995</th>\n",
       "      <td>RT @l1DsGGe2xObT3t72dHwqlT58X7jvEYtEnauZIZSYwS...</td>\n",
       "      <td>melihat debat kemarin pas prabowo kicep kekira...</td>\n",
       "      <td>Politik</td>\n",
       "    </tr>\n",
       "    <tr>\n",
       "      <th>4996</th>\n",
       "      <td>Masyarakat yakin bahwa Prabowo-Gibran memiliki...</td>\n",
       "      <td>masyarakat yakin bahwa prabowo gibran memiliki...</td>\n",
       "      <td>Politik</td>\n",
       "    </tr>\n",
       "    <tr>\n",
       "      <th>4997</th>\n",
       "      <td>imo both are irrational but yg satu jauh lebih...</td>\n",
       "      <td>imo both are irrational but yang satu jauh leb...</td>\n",
       "      <td>Ekonomi</td>\n",
       "    </tr>\n",
       "    <tr>\n",
       "      <th>4998</th>\n",
       "      <td>@cIIGSdjaPrmAQY1E4gWnLpIZSdyQn8ZMhjJzgOsxfRM= ...</td>\n",
       "      <td>look at that pak ganjar anda sudah berkecimpun...</td>\n",
       "      <td>Pertahanan dan Keamanan</td>\n",
       "    </tr>\n",
       "    <tr>\n",
       "      <th>4999</th>\n",
       "      <td>Acara ini tidak hanya memasak, tetapi Calon Pr...</td>\n",
       "      <td>acara ini tidak hanya memasak tetapi calon pre...</td>\n",
       "      <td>Sumber Daya Alam</td>\n",
       "    </tr>\n",
       "  </tbody>\n",
       "</table>\n",
       "<p>5000 rows × 3 columns</p>\n",
       "</div>"
      ],
      "text/plain": [
       "                                                   text  \\\n",
       "0     Kunjungan Prabowo ini untuk meresmikan dan men...   \n",
       "1     RT Anies dapat tepuk tangan meriah saat jadi R...   \n",
       "2     @CIqXqwGAT04tMtx4OCATxjoVq7vv/Y8HeYaIOgMFg8Y= ...   \n",
       "3     RT @L3R8XFBw3WGbxRPSj0/0hHZTbqVGX7qtfwRg9zmhK7...   \n",
       "4     Anies Baswedan Harap ASN termasuk TNI dan Polr...   \n",
       "...                                                 ...   \n",
       "4995  RT @l1DsGGe2xObT3t72dHwqlT58X7jvEYtEnauZIZSYwS...   \n",
       "4996  Masyarakat yakin bahwa Prabowo-Gibran memiliki...   \n",
       "4997  imo both are irrational but yg satu jauh lebih...   \n",
       "4998  @cIIGSdjaPrmAQY1E4gWnLpIZSdyQn8ZMhjJzgOsxfRM= ...   \n",
       "4999  Acara ini tidak hanya memasak, tetapi Calon Pr...   \n",
       "\n",
       "                                           cleaned_text  \\\n",
       "0     kunjungan prabowo ini untuk meresmikan dan men...   \n",
       "1     anies dapat tepuk tangan meriah saat jadi rekt...   \n",
       "2     memang benar sih pendukung 01 ada yang goblok ...   \n",
       "3     sewaktu anies bersikap kritis ke kinerja pak p...   \n",
       "4     anies baswedan harap asn termasuk tni dan polr...   \n",
       "...                                                 ...   \n",
       "4995  melihat debat kemarin pas prabowo kicep kekira...   \n",
       "4996  masyarakat yakin bahwa prabowo gibran memiliki...   \n",
       "4997  imo both are irrational but yang satu jauh leb...   \n",
       "4998  look at that pak ganjar anda sudah berkecimpun...   \n",
       "4999  acara ini tidak hanya memasak tetapi calon pre...   \n",
       "\n",
       "                        label  \n",
       "0            Sumber Daya Alam  \n",
       "1                     Politik  \n",
       "2                   Demografi  \n",
       "3                     Politik  \n",
       "4                     Politik  \n",
       "...                       ...  \n",
       "4995                  Politik  \n",
       "4996                  Politik  \n",
       "4997                  Ekonomi  \n",
       "4998  Pertahanan dan Keamanan  \n",
       "4999         Sumber Daya Alam  \n",
       "\n",
       "[5000 rows x 3 columns]"
      ]
     },
     "execution_count": 9,
     "metadata": {},
     "output_type": "execute_result"
    }
   ],
   "source": [
    "# Apply preprocessing to the tweet column\n",
    "dataset['cleaned_text'] = dataset['text'].astype(str).apply(clean_text)\n",
    "dataset = dataset[['text', 'cleaned_text', 'label']]\n",
    "dataset"
   ]
  },
  {
   "cell_type": "code",
   "execution_count": null,
   "id": "e48b1e30",
   "metadata": {},
   "outputs": [],
   "source": []
  }
 ],
 "metadata": {
  "kernelspec": {
   "display_name": "indonesian-tweet-classification-indobert-3.12",
   "language": "python",
   "name": "python3"
  },
  "language_info": {
   "codemirror_mode": {
    "name": "ipython",
    "version": 3
   },
   "file_extension": ".py",
   "mimetype": "text/x-python",
   "name": "python",
   "nbconvert_exporter": "python",
   "pygments_lexer": "ipython3",
   "version": "3.12.10"
  }
 },
 "nbformat": 4,
 "nbformat_minor": 5
}
