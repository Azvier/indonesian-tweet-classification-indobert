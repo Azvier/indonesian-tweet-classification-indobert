{
 "cells": [
  {
   "cell_type": "code",
   "execution_count": 9,
   "id": "4488f95a",
   "metadata": {},
   "outputs": [],
   "source": [
    "import pandas as pd"
   ]
  },
  {
   "cell_type": "code",
   "execution_count": 10,
   "id": "80283cfa",
   "metadata": {},
   "outputs": [],
   "source": [
    "dataset = pd.read_csv(r'../dataset/dataset.csv', sep=';')"
   ]
  },
  {
   "cell_type": "code",
   "execution_count": 11,
   "id": "05b488c6",
   "metadata": {},
   "outputs": [
    {
     "data": {
      "application/vnd.microsoft.datawrangler.viewer.v0+json": {
       "columns": [
        {
         "name": "index",
         "rawType": "int64",
         "type": "integer"
        },
        {
         "name": "text",
         "rawType": "object",
         "type": "string"
        },
        {
         "name": "label",
         "rawType": "object",
         "type": "string"
        }
       ],
       "ref": "328a1a9d-47ec-4cb2-ae7f-7d2e2142343c",
       "rows": [
        [
         "0",
         "Kunjungan Prabowo ini untuk meresmikan dan menyerahkan proyek bantuan air bersih di lima titik. #IndonesiaSentris #IndonesiaHijau #02Melanjutkan #AnakMudaIndonesiaEmas Prabowo Subianto",
         "Sumber Daya Alam"
        ],
        [
         "1",
         "RT Anies dapat tepuk tangan meriah saat jadi Rektor mewajibkan mata kuliah anti-korupsi untuk memutus mata rantai korupsi.. #AminMiskinkanKoruptor https://t.co/hgXsoQGaEa [RE ekowboy2]",
         "Politik"
        ],
        [
         "2",
         "@CIqXqwGAT04tMtx4OCATxjoVq7vv/Y8HeYaIOgMFg8Y= emng bener sih, pendukung 01 ada yg goblok, begitu jg dg pendukung 02.. hnya sj menurut pak Ridwan Kamil skemanya terbalik, klo 01 MAYORITAS PENDIDIKAN MENENGAH ATAS (artinya ada jg pendidikan rendah yg milih",
         "Demografi"
        ],
        [
         "3",
         "RT @L3R8XFBw3WGbxRPSj0/0hHZTbqVGX7qtfwRg9zmhK7Q= Sewaktu anies bersikap kritis ke kinerja pak prabowo dianggap engga sopan karena dianggap kurang menghormati orang tua, giliran skrg gibran yg tengil dan sok kritis malah dianggap kritis dan keras. Apakah ini tidak standar ganda? Ã°ÂŸÂ¤Â­ [RE coldthem]",
         "Politik"
        ],
        [
         "4",
         "Anies Baswedan Harap ASN termasuk TNI dan Polri Pegang Sumpahnya dalam Pemilu https://t.co/QRQZ3wI8YP",
         "Politik"
        ],
        [
         "5",
         "RT Duh jangan sampai Pak lurah denger nih Ã°ÂŸÂ¤Â­ Di Acara Hajatan Rakyat, Puluhan Ribu Warga di Kendal Serukan Ã¢Â€ÂœGanjar PresidenÃ¢Â€Â Kehadiran @0Zdeh9QcTWu+z+fS3hRaTcFuSLRh56REFyRLq4/Jdlc= menjadi magnet bagi puluhan ribu warga untuk datang menghadiri Hajatan Rakyat Ganjar-Mahfud. Besarnya antusiasme warga menjadi bukti bahwa Jawa Tengah tetap menjadi kandang banteng. #GanjarMahfud2024 #TabrakProfMahfud [RE DS_yantie]",
         "Politik"
        ],
        [
         "6",
         "Prabowo minta Kemenhan dan Tim Satgas Air Unhan kaji bantuan air di Sukabumi. dekade08 Prabowo - Gibran",
         "Pertahanan dan Keamanan"
        ],
        [
         "7",
         "RT Anies: Ya Allah Sibukkanlah Orang Zalim Agar Dapat Kejahatan dari Orang Zalim Lainnya https://t.co/1VK6BWKu2s [RE OposisiCerdas]",
         "Politik"
        ],
        [
         "8",
         "RT Abah @znOMP7ZMVU9dMuMNA/cIazC9q5+hgwVkTsQNdQLKgTc= itu bapa kami, bapa yg berikan perhatian untuk pendidikan anak anak Papua jadi pintar pintar. Gerakan Indonesia mengajar tak bisa di lupakan sama warga Papua. Kami ingin bapa Anies jadi Presiden. https://t.co/FCdf6J1L3Z [RE LANGKAHANIES]",
         "Politik"
        ],
        [
         "9",
         "RT Bawaslu dimaki \"JANCUK\" sama warga garaÃ‚Â² mencopot spanduk Ganjar Mahfud, sementara spanduk Capres lain tidak dicopot. Bawaslu rasa tim sukses. Ã°ÂŸÂ˜Âª #AsalBukanPrabowo #OrdeBaruReborn https://t.co/AcubW2OFlq [RE 03__nakula]",
         "Politik"
        ],
        [
         "10",
         "RT Beberapa isu basi terkait @hs5jZceksZrPM0NiWtKnsbSbZ1XyaZtU4OHkKgrcDk8= / @wEOWbjbQXX93e2r1/7iXQ1mV/pxGE9yrnUdgURpW0Y0= dan fakta sebenarnya bisa dilihat di https://t.co/3aR3K0Plf4. Beberapa diantaranya: Ã¢Â€Â¢ Anies akan mengganti Pancasila dengan sistem Khilafah: https://t.co/jfzZ6vpU11 Ã¢Â€Â¢ Terkait toleransi berbagai penganut agamaÃ¢Â€Â”Anies blunder soal data rumah ibadah di Jakarta: https://t.co/nGdOmaVOEO Ã¢Â€Â¢ Anies mengkhianati Prabowo untuk jadi Capres: https://t.co/ioe8x09UpZ Saat kebenaran dan fakta atas suatu hal telah jelas, tapi tetap disangkalÃ¢Â€Â”entah karena niat jahat, nafsu, atau kepentingan pribadiÃ¢Â€Â¦benar bahwa seringkali yang buta itu bukan mata, tapi hati yang buta. [RE borryshasian]",
         "Ideologi"
        ],
        [
         "11",
         "RT Ganjar Pranowo-Mahfud MD menekankan pentingnya persiapan dalam kebutuhan dasar alutsista dari tiga matra, yaitu darat, laut, dan udara.Ganjar Mahfud M3nang. #GanjarMahfudRebound #GanjarPranowoPilihanUmat #JNK #TemanAlamGanjar #AtikohIbuNegara #Apri0801 https://t.co/kxi9ei6A46 [RE AllaaGa1]",
         "Pertahanan dan Keamanan"
        ],
        [
         "12",
         "RT Calon presiden (capres) nomor urut 1 Anies Baswedan @vaVbSLyok3xdwCAiYpXkJarkzroaILpIRIdpu/z3CJE= sudah siap dengan kemampuannya menghadapi debat ketiga. Debat ketiga akan menyangkut tema soal pertahanan, keamanan, hubungan internasional, dan geopolitik. Download #metrotvxtend di app store & play store #aniesbaswedan #pemilu2024 #debatcapres [RE Metro_TV]",
         "Pertahanan dan Keamanan"
        ],
        [
         "13",
         "Capres Ganjar Pranowo punya rencana besar! Dia bakal bersinergi sama perguruan tinggi buat program yang membawa perubahan positif. #GanjarMahfudRebound #GanjarPranowoPilihanUmat #JNK https://t.co/L8MREZKfXz",
         "Politik"
        ],
        [
         "14",
         "@YcALzIavlM9mN2WtCz3omAmFsnJU8aBm4seMBHJD2vc= @tDtdY83jBV3k81lsAOhmIc1vK+/zGxcIdKVOWIu29xI= @Knh1OhMlSdWjOdPeGirPIxWUf4qXOOU/iNP8ZBTeaLE= @K7Z2vGLl2OuxDbFwAiP8MxCqp07lzjNsfLWVZu5Ipz4= Dengan pendapatan APBD jumbo, paling besar se-Indonesia, mencapai Rp 77",
         "Ekonomi"
        ],
        [
         "15",
         "@VHznvAltictn2PtvpMTLB+H/VJ6L603oe1oRpSZJtO4= Kenyataan yg timbul, menghancurkan pribadi yg isinya penuh kebencian ke AyahBOWO AdalahKITA menimbulkan dampak emosional di pemilih. #MunculFenomenaPAKbowo DukunganTulus Untuk02 @K5CWVm/0TA1XpCHveYhOEBrkxUugg2",
         "Politik"
        ],
        [
         "16",
         "RT Mas Ganjar bawa data dan ngasih pertanyaan berdasar data. Bisa saja dijawab oleh Pak Prabowo tanpa bilang data dari Mas Ganjar salah. Tapi karena Pak Prabowo bilang datanya salah, wajar jika Mas Ganjar minta ditunjukkan mana data yang benar. Gak ada urusan sama waktu yang singkat. [RE pangeransiahaan]",
         "Politik"
        ],
        [
         "17",
         "RT Trending On Twitter ( X) Anies Bubble meroket - Fenomena Fans K-pop join AMIN -ISME https://t.co/SzQctyOJoQ [RE Yurissa_Samosir]",
         "Sosial Budaya"
        ],
        [
         "18",
         "RT @BUMlUyYYGIARoOH2Nx/iuCAFpXprUov+NM3cvB2DtYI= Wait wait pak. Ada bukti pak anies gunakan politik identitas ? Bukankah justru ahok yang terang terangan. Bahkan sebelum pilkada saja sudah memantik perselisihan misal gunakan password wifi dengan kata \"kafir\". Berpikir adil itu memang sulit pak. https://t.co/tCzvhvR2G9 [RE iahk25]",
         "Politik"
        ],
        [
         "19",
         "RT Siti Atikoh mengunjungi kantor TPD Ganjar-Mahfud Sumatera Selatan. Atikoh mendapat kejutan dari penyandang tuna rungu simpatisan Ganjar-Mahfud di Hari Tuna Rungu Nasional 2024. Atikoh diberikan kejutan berupa kaos warna merah, bertuliskan Ibu Negara Indonesia di bagian depan. Tak hanya diberikan kejutan, Atikoh juga diajarkan Bahasa Isyarat. #PDIPerjuangan #HUTPDIPerjuanganKe51 #KebenaranPastiMenang #SatyamEvaJayate #GanjarMahfud2024 #MEnangkanGAnjar #Nomor3Pilihanku [RE PDI_Perjuangan]",
         "Politik"
        ],
        [
         "20",
         "RT Abah Anies ingin mengangkat martabat petani agar tidak terus menerus menerima bansos karena penghasilannya cukup.. #AMINAjaDulu https://t.co/txIvBhLvn2 [RE ekowboy2]",
         "Sosial Budaya"
        ],
        [
         "21",
         "Calon Presiden RI Ganjar Pranowo yakin, bersama Mahfud MD, regulasi hukum investasi bakal lebih mudah dipahami oleh semua pihak.#GanjarMahfudRebound #GanjarPranowoPilihanUmat #JNK https://t.co/v6hsuOEr84",
         "Politik"
        ],
        [
         "22",
         "RT Pak Michael Gaya bicara keras dan terkesan emosional tapi tetap berisiÃ°ÂŸÂ¥Â¹ \" Tidak Usah jangan, Berarti Prabowo itu sudah menggunakan kekerasan militer untuk orang yang sifatnya \" #Anies Pak Lurah Bu Hesti Anies Deserve Better Asnawi Videotron Pegang Miftah Papua Amien Rais https://t.co/VIKVDzL1Sr [RE Riweh_Banget]",
         "Politik"
        ],
        [
         "23",
         "Paslon 03 Ganjar Pranowo yakin, bersama Mahfud MD, regulasi hukum investor di Indonesia bakal lebih bersahabat dan terukur.#GanjarMahfudRebound #GanjarPranowoPilihanUmat #JNK https://t.co/RIoiHBQcPU",
         "Politik"
        ],
        [
         "24",
         "RT ANIES SOSOK AYAH YANG PENUH KEHANGATAN - Ã¬Â• Ã«Â‹ÂˆÃ¬ÂŠÂ¤Ã«ÂŠÂ” Ã«Â”Â°Ã«ÂœÂ»Ã­Â•Â¨Ã¬ÂÂ´ ÃªÂ°Â€Ã«Â“ÂÃ­Â•Âœ Ã¬Â•Â„Ã«Â²Â„Ã¬Â§Â€Ã¬ÂÂ˜ Ã«ÂªÂ¨Ã¬ÂŠÂµÃ¬Âž Ã«Â‹ÂˆÃ«Â‹Â¤ Pak @tMhERoSGzAGffRRtESW3sH2i8KRZA00OpeRvhkolzv0= mmg sosok Ayah yg Penuh Kehangatan. Lihat dlm tayangan video ini, tangannya lentur banget menggendong anak kecil. Tampak Luwes, ngga kaku dan ngga buat-buat.Ã‚ Pasti anak-anaknya jg sering merasakan gendongan, pelukan dan pelukan beliau. - \"Kekuatan sejati adalah ketenangan di pelukan Ayah.\" - #aniesbubbleÃ‚ #AniesMuhaimin2024 [RE papa_loren]",
         "Pertahanan dan Keamanan"
        ],
        [
         "25",
         "Capres Ganjar Pranowo nggak main-main nih! Kolaborasi dengan perguruan tinggi buat program edukatif yang oke punya. #GanjarMahfudRebound #GanjarPranowoPilihanUmat #JNK https://t.co/aDzMKmTRYj",
         "Politik"
        ],
        [
         "26",
         "RT Projo Kawal Prabowo Gibran Menang Sekali Putaran Ã¢ÂœÂŠÃ°ÂŸÂ‡Â®Ã°ÂŸÂ‡Â© #projo #jokowi #setiadigarisrakyat https://t.co/9WT8h4Iizh [RE Projo_Pusat]",
         "Politik"
        ],
        [
         "27",
         "tempodotco semangat pak Ã‚ Ã‚ kami akan selalu m3nddukung muÃ‚ Ganjar Mahfud Hebat #Coblos3 #3GM #GanjarMahfudM3nangDebat #DebatCapres https://t.co/K7EM7R7P2v",
         "Politik"
        ],
        [
         "28",
         "RT Anies sesuai selera masyarakat Sumatera Barat. https://t.co/6phxEXGjc6 [RE kamalmiko]",
         "Sosial Budaya"
        ],
        [
         "29",
         "RT Abah Anies Baswedan &amp; ibu Fery Farhati tiba di Pekanbaru Kampanye Akbar kedua hari ini Ã°ÂŸÂ”Â¥ https://t.co/XcZxFscBhw [RE Mdy_Asmara1701]",
         "Politik"
        ],
        [
         "30",
         "Atikoh Beberkan Solusi Ganjar-Mahfud Atasi Harga Pangan Naik https://t.co/m8OARyG630",
         "Politik"
        ],
        [
         "31",
         "RT Giliran Buruh Soloraya Deklarasi Dukung Prabowo-Gibran - Soloraya https://t.co/DBaQCYeqKV https://t.co/hjZXhvK0oi #IndonesiaKuatIndonesiaMaju #DiplomasiProgresif02 #02Melanjutkan [RE doddy_h4312]",
         "Politik"
        ],
        [
         "32",
         "Capres Cawapres Ganjar Pranowo dan Mahfud MD mengajak semua pihak untuk bersatu menjaga Konstitusi atau aturan dasar negara.#JNK #GanjarMahfudRebound #GanjarPranowoPilihanUmat https://t.co/VdpFFxOeUQ",
         "Ideologi"
        ],
        [
         "33",
         "RT Raja dangdut Pak Haji Rhoma irama Bertanya Tentang seni dan Film Jika Pak Anies Terpilih jadi Presiden Desak ANIES &amp; Slepet Imin di JI-EXPO Kemayoran Jakarta pusat Hari ini Senin 29 Januari 2024 https://t.co/RrXqDp1oVE [RE Yurissa_Samosir]",
         "Politik"
        ],
        [
         "34",
         "Capres Ganjar Pranowo akan memberikan ruang bagi masyarakat untuk memberikan masukan dan saran dalam evaluasi pasal karet UU ITE.#JNK #GanjarMahfudRebound #GanjarPranowoPilihanUmat https://t.co/P6xBly0eos",
         "Politik"
        ],
        [
         "35",
         "RT Ini musuh utama gen z, Anies bertekad basmi praktik ordal dalam penerimaan tenaga kerja di sektor swasta &amp; pemerintahan dg penegakan aturan.. #AMINAjaDulu https://t.co/kcras6WuXs [RE ekowboy2]",
         "Politik"
        ],
        [
         "36",
         "Debat Capres-Cawapres ke-3, Anies menyatakan nilai Kemenhan dalam melaksanakan kebijakan nilainya 11 dari 100. Jadi Menteri saja tidak layak, menurut Paslon 01.",
         "Politik"
        ],
        [
         "37",
         "Pasangan Duet Capres Cawapres Ganjar Pranowo Mahfud MD, motor perubahan. Kredit 35% untuk koprasi dan UMKM, jadi andalan bisnis lokal. Sukses terus, teman-teman.JN18A #JNK #GanjarMahfudRebound #GanjarPranowoPilihanUmat",
         "Ekonomi"
        ],
        [
         "38",
         "RT Anak Muda Indonesia, the future of this nation is in your hand. It's the time for change. Anies for President..sampaikan yg harus disampaikan kepada teman lainnya karena sudah saatnya adu ide &amp; gagasan...tunjukan karya-karya Pak Anies untuk Perubahan Indonesia lebih baik lagi https://t.co/S9S9Kanr0z [RE Yurissa_Samosir]",
         "Ideologi"
        ],
        [
         "39",
         "RT Pak AniesÃ¢Â€Â™s post has reached 26.000 likes and 1.350.573 on Dialog Capres w/ Kadin, tvOneNews Youtube in 1 Days 15 Hour 27 Minutes. Ã¢Â€Â” It is the fastest and highest post to reach 26k likes and 1.3M likes among capresÃ¢Â€Â™s members #ANIES #Ã¬Â•Â„Ã«Â‹ÂˆÃ¬ÂŠÂ¤ #AniesAtKadin https://t.co/skRZA4AWlp [RE aniesbubble]",
         "Sosial Budaya"
        ],
        [
         "40",
         "RT According to Prabowo, Gaza is opressed because they don't have a sufficient military power. This is such a tone-deaf statement coming from a Minister of Defense. [RE WAPamungkas]",
         "Pertahanan dan Keamanan"
        ],
        [
         "41",
         "RT Ini kejam, warga disitu sudah bersedia dibangun JIS dgn janji Anies utk memabngun rumah susun bagi mereka. Stlh rumah itu terbangun mrk ga diberikan haknya. Padahal Anies selaku Gubernur sll menepati janjinya. Kampung akuarium, kampung kunir dll. Apa yg salah rakyat mendapat rmh? [RE GeiszChalifah]",
         "Sosial Budaya"
        ],
        [
         "42",
         "RT Prabowo-Gibran akan Terapkan 17 Program Ini untuk Melancarkan Ekonomi Biru - Internasional Kontan https://t.co/3wJ1RkX4NX #MenangSeputaran [RE AzzrielAzaryahu]",
         "Ekonomi"
        ],
        [
         "43",
         "RT VIRAL Anies Baswedan Dapat Ancaman Penembakan, Tim Hukum AMIN Siap Tempuh Jalur Hukum! https://t.co/pnFEy0cLgj [RE democrazymedia]",
         "Pertahanan dan Keamanan"
        ],
        [
         "44",
         "RT Kasihan Pendukung Prabowo udah dibela belain masuk penjara gak diakui..... https://t.co/8l6IbwcGwC [RE Catatan_ali7]",
         "Politik"
        ],
        [
         "45",
         "tempodotco Ayo Ganjar, tuntaskan permasalahan yang ada di Indonesia, pasti bisa pasti m3nang Ã‚ Ã‚ semuakerjaÃ‚ Ganjar Mahfud Hebat #Coblos3 #3GM #DuluJokowiSekarangGanjar ayahbowo adalahkita Ã°ÂŸÂ˜Â€ https://t.co/zRmqeHufEI",
         "Politik"
        ],
        [
         "46",
         "RT Wiranto langsung bergerak cepat untuk memberikan dukungan kepada Prabowo - Gibran. #WirantoGasPolDukung02 https://t.co/vkk1Hbk5Wl [RE AlfisyahriFarah]",
         "Politik"
        ],
        [
         "47",
         "RT gua beneran sedih banget kenapa ya orang tuh susah menerima fakta kalo prabowo itu war criminal dan zionistÃ¢Â€Â¦.. kek thereÃ¢Â€Â™s so many possibilities kalo beliau kepilih bakal regress demokrasi kita, bakal lebih otoriter, bahkan banyak menteri progresif yg pasti akan didepakÃ¢Â€Â¦ [RE moonincancer__]",
         "Politik"
        ],
        [
         "48",
         "RT Lautan manusia sambut Capres nomor urut 1, Anies Baswedan saat laksanakan giat kampanye ke Bone, Sulawesi Selatan (Sulsel), Rabu (17/1/2024). Anies bertemu dengan masyarakat Bone di Lapangan Sepak Bola Cina. Kampanye kali ini cukup spesial lantaran ditemani oleh eks Wakil Presiden, Jusuf Kalla (JK). Melihat lautan manusia yang antusias menyapa Anies ini pun membuat dia merasa takjub, dan menegaskan bahwa uang tidak dapat mengobarkan semangat seperti ini. Simak berita selengkapnya di https://t.co/IuWcTPbHZj #HardNews_Politik #NewsOne #CariBeritaditvOne #NO01 #AniesBaswedan #Kampanye #ViralBone #Pilpres2024 #Politik #KamiKabarkanAndaPutuskan #MauMemilih #tvOneTVPemilu [RE tvOneNews]",
         "Politik"
        ],
        [
         "49",
         "RT baru kali ini ada capres yg mau peluk orang papua mencium tangan anak-Anak papua biar rakyat yang menilai !! Gak ngaruh tetap all in prabowo istirahatÃ°ÂŸÂ«Â£ Anies Deserve Better #AbahAnies #CakImin https://t.co/2lcwxzGCN0 [RE nialubis_]",
         "Politik"
        ]
       ],
       "shape": {
        "columns": 2,
        "rows": 5000
       }
      },
      "text/html": [
       "<div>\n",
       "<style scoped>\n",
       "    .dataframe tbody tr th:only-of-type {\n",
       "        vertical-align: middle;\n",
       "    }\n",
       "\n",
       "    .dataframe tbody tr th {\n",
       "        vertical-align: top;\n",
       "    }\n",
       "\n",
       "    .dataframe thead th {\n",
       "        text-align: right;\n",
       "    }\n",
       "</style>\n",
       "<table border=\"1\" class=\"dataframe\">\n",
       "  <thead>\n",
       "    <tr style=\"text-align: right;\">\n",
       "      <th></th>\n",
       "      <th>text</th>\n",
       "      <th>label</th>\n",
       "    </tr>\n",
       "  </thead>\n",
       "  <tbody>\n",
       "    <tr>\n",
       "      <th>0</th>\n",
       "      <td>Kunjungan Prabowo ini untuk meresmikan dan men...</td>\n",
       "      <td>Sumber Daya Alam</td>\n",
       "    </tr>\n",
       "    <tr>\n",
       "      <th>1</th>\n",
       "      <td>RT Anies dapat tepuk tangan meriah saat jadi R...</td>\n",
       "      <td>Politik</td>\n",
       "    </tr>\n",
       "    <tr>\n",
       "      <th>2</th>\n",
       "      <td>@CIqXqwGAT04tMtx4OCATxjoVq7vv/Y8HeYaIOgMFg8Y= ...</td>\n",
       "      <td>Demografi</td>\n",
       "    </tr>\n",
       "    <tr>\n",
       "      <th>3</th>\n",
       "      <td>RT @L3R8XFBw3WGbxRPSj0/0hHZTbqVGX7qtfwRg9zmhK7...</td>\n",
       "      <td>Politik</td>\n",
       "    </tr>\n",
       "    <tr>\n",
       "      <th>4</th>\n",
       "      <td>Anies Baswedan Harap ASN termasuk TNI dan Polr...</td>\n",
       "      <td>Politik</td>\n",
       "    </tr>\n",
       "    <tr>\n",
       "      <th>...</th>\n",
       "      <td>...</td>\n",
       "      <td>...</td>\n",
       "    </tr>\n",
       "    <tr>\n",
       "      <th>4995</th>\n",
       "      <td>RT @l1DsGGe2xObT3t72dHwqlT58X7jvEYtEnauZIZSYwS...</td>\n",
       "      <td>Politik</td>\n",
       "    </tr>\n",
       "    <tr>\n",
       "      <th>4996</th>\n",
       "      <td>Masyarakat yakin bahwa Prabowo-Gibran memiliki...</td>\n",
       "      <td>Politik</td>\n",
       "    </tr>\n",
       "    <tr>\n",
       "      <th>4997</th>\n",
       "      <td>imo both are irrational but yg satu jauh lebih...</td>\n",
       "      <td>Ekonomi</td>\n",
       "    </tr>\n",
       "    <tr>\n",
       "      <th>4998</th>\n",
       "      <td>@cIIGSdjaPrmAQY1E4gWnLpIZSdyQn8ZMhjJzgOsxfRM= ...</td>\n",
       "      <td>Pertahanan dan Keamanan</td>\n",
       "    </tr>\n",
       "    <tr>\n",
       "      <th>4999</th>\n",
       "      <td>Acara ini tidak hanya memasak, tetapi Calon Pr...</td>\n",
       "      <td>Sumber Daya Alam</td>\n",
       "    </tr>\n",
       "  </tbody>\n",
       "</table>\n",
       "<p>5000 rows × 2 columns</p>\n",
       "</div>"
      ],
      "text/plain": [
       "                                                   text  \\\n",
       "0     Kunjungan Prabowo ini untuk meresmikan dan men...   \n",
       "1     RT Anies dapat tepuk tangan meriah saat jadi R...   \n",
       "2     @CIqXqwGAT04tMtx4OCATxjoVq7vv/Y8HeYaIOgMFg8Y= ...   \n",
       "3     RT @L3R8XFBw3WGbxRPSj0/0hHZTbqVGX7qtfwRg9zmhK7...   \n",
       "4     Anies Baswedan Harap ASN termasuk TNI dan Polr...   \n",
       "...                                                 ...   \n",
       "4995  RT @l1DsGGe2xObT3t72dHwqlT58X7jvEYtEnauZIZSYwS...   \n",
       "4996  Masyarakat yakin bahwa Prabowo-Gibran memiliki...   \n",
       "4997  imo both are irrational but yg satu jauh lebih...   \n",
       "4998  @cIIGSdjaPrmAQY1E4gWnLpIZSdyQn8ZMhjJzgOsxfRM= ...   \n",
       "4999  Acara ini tidak hanya memasak, tetapi Calon Pr...   \n",
       "\n",
       "                        label  \n",
       "0            Sumber Daya Alam  \n",
       "1                     Politik  \n",
       "2                   Demografi  \n",
       "3                     Politik  \n",
       "4                     Politik  \n",
       "...                       ...  \n",
       "4995                  Politik  \n",
       "4996                  Politik  \n",
       "4997                  Ekonomi  \n",
       "4998  Pertahanan dan Keamanan  \n",
       "4999         Sumber Daya Alam  \n",
       "\n",
       "[5000 rows x 2 columns]"
      ]
     },
     "execution_count": 11,
     "metadata": {},
     "output_type": "execute_result"
    }
   ],
   "source": [
    "dataset"
   ]
  }
 ],
 "metadata": {
  "kernelspec": {
   "display_name": "indonesian-tweet-classification-indobert-3.12",
   "language": "python",
   "name": "python3"
  },
  "language_info": {
   "codemirror_mode": {
    "name": "ipython",
    "version": 3
   },
   "file_extension": ".py",
   "mimetype": "text/x-python",
   "name": "python",
   "nbconvert_exporter": "python",
   "pygments_lexer": "ipython3",
   "version": "3.12.10"
  }
 },
 "nbformat": 4,
 "nbformat_minor": 5
}
