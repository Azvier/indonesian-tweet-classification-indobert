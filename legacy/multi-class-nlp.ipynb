{
 "cells": [
  {
   "cell_type": "code",
   "execution_count": 1,
   "metadata": {},
   "outputs": [],
   "source": [
    "import pandas as pd\n",
    "import numpy as np\n",
    "from transformers import AutoModelForSequenceClassification, TrainingArguments, Trainer, get_scheduler, BertTokenizer\n",
    "from sklearn.model_selection import train_test_split\n",
    "import torch\n",
    "from sklearn.preprocessing import LabelEncoder\n",
    "from sklearn.metrics import accuracy_score, confusion_matrix, balanced_accuracy_score\n",
    "import matplotlib.pyplot as plt\n",
    "import seaborn as sns\n",
    "from torch.optim import AdamW\n",
    "from torch.optim.lr_scheduler import CosineAnnealingLR\n",
    "import ast"
   ]
  },
  {
   "cell_type": "code",
   "execution_count": null,
   "metadata": {},
   "outputs": [],
   "source": [
    "# Load the dataset\n",
    "file_path = r\"Data\\preprocess_with_translate.csv\"\n",
    "dataset0 = pd.read_csv(file_path)\n",
    "dataset = dataset0.copy()"
   ]
  },
  {
   "cell_type": "code",
   "execution_count": 3,
   "metadata": {},
   "outputs": [],
   "source": [
    "# Function to tokenize using IndoBERT\n",
    "def tokenize_text(text, tokenizer):\n",
    "    tokens = tokenizer(text, padding='max_length', truncation=True, max_length=128)\n",
    "    return tokens['input_ids']\n",
    "# Initialize IndoBERT tokenizer\n",
    "tokenizer = BertTokenizer.from_pretrained(\"indobenchmark/indobert-base-p1\")\n",
    "\n",
    "# Ensure `cleaned_text` is of type `str`\n",
    "dataset['cleaned_text'] = dataset['cleaned_text'].astype(str)\n",
    "\n",
    "# Apply tokenization\n",
    "dataset['tokenized_text'] = dataset['cleaned_text'].apply(lambda x: tokenize_text(x, tokenizer))"
   ]
  },
  {
   "cell_type": "code",
   "execution_count": 4,
   "metadata": {},
   "outputs": [
    {
     "name": "stdout",
     "output_type": "stream",
     "text": [
      "Label Mapping: {'Demografi': 0, 'Ekonomi': 1, 'Geografi': 2, 'Ideologi': 3, 'Pertahanan dan Keamanan': 4, 'Politik': 5, 'Sosial Budaya': 6, 'Sumber Daya Alam': 7}\n"
     ]
    }
   ],
   "source": [
    "# Initialize the label encoder\n",
    "label_encoder = LabelEncoder()\n",
    "\n",
    "# Fit the label encoder and transform the labels\n",
    "dataset['encoded_label'] = label_encoder.fit_transform(dataset['label'])\n",
    "\n",
    "# Print the mapping of labels to integers\n",
    "label_mapping = dict(zip(label_encoder.classes_, label_encoder.transform(label_encoder.classes_)))\n",
    "print(\"Label Mapping:\", label_mapping)"
   ]
  },
  {
   "cell_type": "code",
   "execution_count": 5,
   "metadata": {},
   "outputs": [],
   "source": [
    "# Split the dataset\n",
    "train_texts, val_texts, train_labels, val_labels = train_test_split(dataset['tokenized_text'], dataset['encoded_label'], test_size=0.2, random_state=42)\n",
    "\n",
    "class TweetDataset(torch.utils.data.Dataset):\n",
    "    def __init__(self, texts, labels):\n",
    "        self.texts = texts\n",
    "        self.labels = labels\n",
    "\n",
    "    def __getitem__(self, idx):\n",
    "        item = {\n",
    "            'input_ids': torch.tensor(self.texts.iloc[idx], dtype=torch.long),  # Ensure input_ids are of type long\n",
    "            'attention_mask': torch.tensor([1] * len(self.texts.iloc[idx]), dtype=torch.long)  # Ensure attention_mask is of type long\n",
    "        }\n",
    "        item['labels'] = torch.tensor(self.labels.iloc[idx], dtype=torch.long)  # Ensure labels are of type long\n",
    "        return item\n",
    "\n",
    "    def __len__(self):\n",
    "        return len(self.labels)\n",
    "\n",
    "train_dataset = TweetDataset(train_texts, train_labels)\n",
    "val_dataset = TweetDataset(val_texts, val_labels)"
   ]
  },
  {
   "cell_type": "code",
   "execution_count": 6,
   "metadata": {},
   "outputs": [
    {
     "name": "stdout",
     "output_type": "stream",
     "text": [
      "Using device: cuda\n"
     ]
    },
    {
     "name": "stderr",
     "output_type": "stream",
     "text": [
      "Some weights of BertForSequenceClassification were not initialized from the model checkpoint at indobenchmark/indobert-base-p1 and are newly initialized: ['classifier.bias', 'classifier.weight']\n",
      "You should probably TRAIN this model on a down-stream task to be able to use it for predictions and inference.\n"
     ]
    },
    {
     "data": {
      "text/plain": [
       "BertForSequenceClassification(\n",
       "  (bert): BertModel(\n",
       "    (embeddings): BertEmbeddings(\n",
       "      (word_embeddings): Embedding(50000, 768, padding_idx=0)\n",
       "      (position_embeddings): Embedding(512, 768)\n",
       "      (token_type_embeddings): Embedding(2, 768)\n",
       "      (LayerNorm): LayerNorm((768,), eps=1e-12, elementwise_affine=True)\n",
       "      (dropout): Dropout(p=0.1, inplace=False)\n",
       "    )\n",
       "    (encoder): BertEncoder(\n",
       "      (layer): ModuleList(\n",
       "        (0-11): 12 x BertLayer(\n",
       "          (attention): BertAttention(\n",
       "            (self): BertSdpaSelfAttention(\n",
       "              (query): Linear(in_features=768, out_features=768, bias=True)\n",
       "              (key): Linear(in_features=768, out_features=768, bias=True)\n",
       "              (value): Linear(in_features=768, out_features=768, bias=True)\n",
       "              (dropout): Dropout(p=0.1, inplace=False)\n",
       "            )\n",
       "            (output): BertSelfOutput(\n",
       "              (dense): Linear(in_features=768, out_features=768, bias=True)\n",
       "              (LayerNorm): LayerNorm((768,), eps=1e-12, elementwise_affine=True)\n",
       "              (dropout): Dropout(p=0.1, inplace=False)\n",
       "            )\n",
       "          )\n",
       "          (intermediate): BertIntermediate(\n",
       "            (dense): Linear(in_features=768, out_features=3072, bias=True)\n",
       "            (intermediate_act_fn): GELUActivation()\n",
       "          )\n",
       "          (output): BertOutput(\n",
       "            (dense): Linear(in_features=3072, out_features=768, bias=True)\n",
       "            (LayerNorm): LayerNorm((768,), eps=1e-12, elementwise_affine=True)\n",
       "            (dropout): Dropout(p=0.1, inplace=False)\n",
       "          )\n",
       "        )\n",
       "      )\n",
       "    )\n",
       "    (pooler): BertPooler(\n",
       "      (dense): Linear(in_features=768, out_features=768, bias=True)\n",
       "      (activation): Tanh()\n",
       "    )\n",
       "  )\n",
       "  (dropout): Dropout(p=0.1, inplace=False)\n",
       "  (classifier): Linear(in_features=768, out_features=8, bias=True)\n",
       ")"
      ]
     },
     "execution_count": 6,
     "metadata": {},
     "output_type": "execute_result"
    }
   ],
   "source": [
    "# Check if GPU is available\n",
    "device = torch.device('cuda') if torch.cuda.is_available() else torch.device('cpu')\n",
    "print(f'Using device: {device}')\n",
    "\n",
    "# Load model and move to GPU\n",
    "model = AutoModelForSequenceClassification.from_pretrained(\"indobenchmark/indobert-base-p1\", num_labels=8)\n",
    "model.to(device)"
   ]
  },
  {
   "cell_type": "code",
   "execution_count": null,
   "metadata": {},
   "outputs": [],
   "source": [
    "# Assuming you have 5000 samples and you're using a batch size of 16\n",
    "# total_train_steps = math.ceil(len(train_texts) / 16) * 3  # 3 epochs\n",
    "# warmup_steps = int(0.1 * total_train_steps)  # 10% of the total training steps\n",
    "\n",
    "training_args = TrainingArguments(\n",
    "    output_dir=r\"IndoBERT-p1\\results\",  \n",
    "    num_train_epochs=10,                                               \n",
    "    per_device_train_batch_size=32,                                   \n",
    "    per_device_eval_batch_size=32,                                    \n",
    "    learning_rate=3e-5,\n",
    "    warmup_steps=0,                                                    # number of warmup steps for learning rate scheduler\n",
    "    weight_decay=0.01,                                                 # strength of weight decay\n",
    "    logging_dir=r\"IndoBERT-p1\\logs\",     \n",
    "    logging_steps=10,                                                  # logs will be recorded every 10 steps\n",
    "    max_grad_norm=1.0                                                  # Gradient clipping\n",
    ")"
   ]
  },
  {
   "cell_type": "code",
   "execution_count": 8,
   "metadata": {},
   "outputs": [],
   "source": [
    "def compute_metrics(p):\n",
    "    preds = np.argmax(p.predictions, axis=1)\n",
    "    labels = p.label_ids\n",
    "    balanced_acc = balanced_accuracy_score(labels, preds)\n",
    "    cm = confusion_matrix(labels, preds)\n",
    "    acc = accuracy_score(labels, preds)\n",
    "    return {\n",
    "        'accuracy': acc,\n",
    "        'balanced_accuracy': balanced_acc,\n",
    "        'confusion_matrix': cm\n",
    "    }\n",
    "\n",
    "# Define the optimizer\n",
    "optimizer = AdamW(model.parameters(), lr=training_args.learning_rate)\n",
    "\n",
    "# Calculate total steps and warm-up steps\n",
    "total_steps = len(train_dataset) // training_args.per_device_train_batch_size * training_args.num_train_epochs\n",
    "warmup_steps = int(total_steps * 0.1)  # Warmup for 10% of the total steps\n",
    "\n",
    "# Create the linear warm-up scheduler\n",
    "warmup_scheduler = get_scheduler(\n",
    "    \"linear\",\n",
    "    optimizer=optimizer,\n",
    "    num_warmup_steps=warmup_steps,\n",
    "    num_training_steps=total_steps\n",
    ")\n",
    "\n",
    "# Initialize the Trainer with both schedulers\n",
    "trainer = Trainer(\n",
    "    model=model,\n",
    "    args=training_args,\n",
    "    train_dataset=train_dataset,\n",
    "    eval_dataset=val_dataset,\n",
    "    compute_metrics=compute_metrics,\n",
    "    optimizers=(optimizer, warmup_scheduler)\n",
    ")"
   ]
  },
  {
   "cell_type": "code",
   "execution_count": 9,
   "metadata": {},
   "outputs": [
    {
     "data": {
      "application/vnd.jupyter.widget-view+json": {
       "model_id": "772a00c58a10434486e32886c4d2b9fc",
       "version_major": 2,
       "version_minor": 0
      },
      "text/plain": [
       "  0%|          | 0/1250 [00:00<?, ?it/s]"
      ]
     },
     "metadata": {},
     "output_type": "display_data"
    },
    {
     "name": "stderr",
     "output_type": "stream",
     "text": [
      "c:\\Users\\LENOVO\\AppData\\Local\\Programs\\Python\\Python312\\Lib\\site-packages\\transformers\\models\\bert\\modeling_bert.py:435: UserWarning: 1Torch was not compiled with flash attention. (Triggered internally at ..\\aten\\src\\ATen\\native\\transformers\\cuda\\sdp_utils.cpp:455.)\n",
      "  attn_output = torch.nn.functional.scaled_dot_product_attention(\n"
     ]
    },
    {
     "name": "stdout",
     "output_type": "stream",
     "text": [
      "{'loss': 2.0326, 'grad_norm': 12.856722831726074, 'learning_rate': 2.4000000000000003e-06, 'epoch': 0.08}\n",
      "{'loss': 1.6123, 'grad_norm': 4.688408851623535, 'learning_rate': 4.800000000000001e-06, 'epoch': 0.16}\n",
      "{'loss': 1.3826, 'grad_norm': 3.7350473403930664, 'learning_rate': 7.2e-06, 'epoch': 0.24}\n",
      "{'loss': 1.4293, 'grad_norm': 3.0192275047302246, 'learning_rate': 9.600000000000001e-06, 'epoch': 0.32}\n",
      "{'loss': 1.249, 'grad_norm': 5.729355812072754, 'learning_rate': 1.2e-05, 'epoch': 0.4}\n",
      "{'loss': 1.3275, 'grad_norm': 3.2127811908721924, 'learning_rate': 1.44e-05, 'epoch': 0.48}\n",
      "{'loss': 1.3818, 'grad_norm': 2.8748457431793213, 'learning_rate': 1.6800000000000002e-05, 'epoch': 0.56}\n",
      "{'loss': 1.3014, 'grad_norm': 4.040222644805908, 'learning_rate': 1.9200000000000003e-05, 'epoch': 0.64}\n",
      "{'loss': 1.3155, 'grad_norm': 4.891315937042236, 'learning_rate': 2.16e-05, 'epoch': 0.72}\n",
      "{'loss': 1.3391, 'grad_norm': 4.366336822509766, 'learning_rate': 2.4e-05, 'epoch': 0.8}\n",
      "{'loss': 1.2257, 'grad_norm': 6.685662746429443, 'learning_rate': 2.64e-05, 'epoch': 0.88}\n",
      "{'loss': 1.0069, 'grad_norm': 4.706272125244141, 'learning_rate': 2.88e-05, 'epoch': 0.96}\n",
      "{'loss': 0.9136, 'grad_norm': 9.615306854248047, 'learning_rate': 2.9866666666666666e-05, 'epoch': 1.04}\n",
      "{'loss': 0.8821, 'grad_norm': 5.367942810058594, 'learning_rate': 2.96e-05, 'epoch': 1.12}\n",
      "{'loss': 0.7905, 'grad_norm': 5.090569496154785, 'learning_rate': 2.9333333333333333e-05, 'epoch': 1.2}\n",
      "{'loss': 0.7346, 'grad_norm': 3.4550728797912598, 'learning_rate': 2.9066666666666667e-05, 'epoch': 1.28}\n",
      "{'loss': 0.727, 'grad_norm': 13.071819305419922, 'learning_rate': 2.88e-05, 'epoch': 1.36}\n",
      "{'loss': 0.7788, 'grad_norm': 6.749926567077637, 'learning_rate': 2.8533333333333333e-05, 'epoch': 1.44}\n",
      "{'loss': 0.7289, 'grad_norm': 3.6885783672332764, 'learning_rate': 2.8266666666666665e-05, 'epoch': 1.52}\n",
      "{'loss': 0.8096, 'grad_norm': 9.777383804321289, 'learning_rate': 2.8e-05, 'epoch': 1.6}\n",
      "{'loss': 0.563, 'grad_norm': 5.233680248260498, 'learning_rate': 2.7733333333333334e-05, 'epoch': 1.68}\n",
      "{'loss': 0.7481, 'grad_norm': 8.750921249389648, 'learning_rate': 2.746666666666667e-05, 'epoch': 1.76}\n",
      "{'loss': 0.687, 'grad_norm': 8.517632484436035, 'learning_rate': 2.72e-05, 'epoch': 1.84}\n",
      "{'loss': 0.7183, 'grad_norm': 10.550007820129395, 'learning_rate': 2.6933333333333335e-05, 'epoch': 1.92}\n",
      "{'loss': 0.731, 'grad_norm': 3.7555549144744873, 'learning_rate': 2.6666666666666667e-05, 'epoch': 2.0}\n",
      "{'loss': 0.5245, 'grad_norm': 4.7195024490356445, 'learning_rate': 2.64e-05, 'epoch': 2.08}\n",
      "{'loss': 0.4363, 'grad_norm': 9.40624713897705, 'learning_rate': 2.6133333333333333e-05, 'epoch': 2.16}\n",
      "{'loss': 0.4642, 'grad_norm': 7.902383804321289, 'learning_rate': 2.5866666666666667e-05, 'epoch': 2.24}\n",
      "{'loss': 0.5234, 'grad_norm': 7.802330017089844, 'learning_rate': 2.5600000000000002e-05, 'epoch': 2.32}\n",
      "{'loss': 0.4371, 'grad_norm': 6.177353858947754, 'learning_rate': 2.5333333333333334e-05, 'epoch': 2.4}\n",
      "{'loss': 0.4955, 'grad_norm': 5.983137607574463, 'learning_rate': 2.506666666666667e-05, 'epoch': 2.48}\n",
      "{'loss': 0.5132, 'grad_norm': 4.818207740783691, 'learning_rate': 2.48e-05, 'epoch': 2.56}\n",
      "{'loss': 0.522, 'grad_norm': 6.367710590362549, 'learning_rate': 2.4533333333333334e-05, 'epoch': 2.64}\n",
      "{'loss': 0.4992, 'grad_norm': 8.318093299865723, 'learning_rate': 2.4266666666666666e-05, 'epoch': 2.72}\n",
      "{'loss': 0.5464, 'grad_norm': 8.3218355178833, 'learning_rate': 2.4e-05, 'epoch': 2.8}\n",
      "{'loss': 0.5064, 'grad_norm': 10.264176368713379, 'learning_rate': 2.3733333333333332e-05, 'epoch': 2.88}\n",
      "{'loss': 0.4298, 'grad_norm': 12.213774681091309, 'learning_rate': 2.346666666666667e-05, 'epoch': 2.96}\n",
      "{'loss': 0.4721, 'grad_norm': 4.204592227935791, 'learning_rate': 2.32e-05, 'epoch': 3.04}\n",
      "{'loss': 0.3655, 'grad_norm': 12.726245880126953, 'learning_rate': 2.2933333333333336e-05, 'epoch': 3.12}\n",
      "{'loss': 0.2932, 'grad_norm': 3.3594586849212646, 'learning_rate': 2.2666666666666668e-05, 'epoch': 3.2}\n",
      "{'loss': 0.3468, 'grad_norm': 10.847125053405762, 'learning_rate': 2.2400000000000002e-05, 'epoch': 3.28}\n",
      "{'loss': 0.2589, 'grad_norm': 7.607234001159668, 'learning_rate': 2.2133333333333334e-05, 'epoch': 3.36}\n",
      "{'loss': 0.3103, 'grad_norm': 5.45206880569458, 'learning_rate': 2.186666666666667e-05, 'epoch': 3.44}\n",
      "{'loss': 0.3137, 'grad_norm': 7.639487266540527, 'learning_rate': 2.16e-05, 'epoch': 3.52}\n",
      "{'loss': 0.2483, 'grad_norm': 6.7421674728393555, 'learning_rate': 2.1333333333333335e-05, 'epoch': 3.6}\n",
      "{'loss': 0.3039, 'grad_norm': 4.58691930770874, 'learning_rate': 2.1066666666666666e-05, 'epoch': 3.68}\n",
      "{'loss': 0.2916, 'grad_norm': 14.373218536376953, 'learning_rate': 2.08e-05, 'epoch': 3.76}\n",
      "{'loss': 0.2769, 'grad_norm': 6.5312113761901855, 'learning_rate': 2.0533333333333332e-05, 'epoch': 3.84}\n",
      "{'loss': 0.2561, 'grad_norm': 5.826544284820557, 'learning_rate': 2.0266666666666667e-05, 'epoch': 3.92}\n",
      "{'loss': 0.362, 'grad_norm': 7.863027095794678, 'learning_rate': 1.9999999999999998e-05, 'epoch': 4.0}\n",
      "{'loss': 0.2318, 'grad_norm': 7.773127555847168, 'learning_rate': 1.9733333333333333e-05, 'epoch': 4.08}\n",
      "{'loss': 0.1724, 'grad_norm': 4.176141262054443, 'learning_rate': 1.9466666666666664e-05, 'epoch': 4.16}\n",
      "{'loss': 0.257, 'grad_norm': 8.79794692993164, 'learning_rate': 1.9200000000000003e-05, 'epoch': 4.24}\n",
      "{'loss': 0.2093, 'grad_norm': 4.520354270935059, 'learning_rate': 1.8933333333333334e-05, 'epoch': 4.32}\n",
      "{'loss': 0.168, 'grad_norm': 5.260315895080566, 'learning_rate': 1.866666666666667e-05, 'epoch': 4.4}\n",
      "{'loss': 0.1704, 'grad_norm': 4.081453323364258, 'learning_rate': 1.84e-05, 'epoch': 4.48}\n",
      "{'loss': 0.1818, 'grad_norm': 7.210055351257324, 'learning_rate': 1.8133333333333335e-05, 'epoch': 4.56}\n",
      "{'loss': 0.2526, 'grad_norm': 5.547679901123047, 'learning_rate': 1.7866666666666666e-05, 'epoch': 4.64}\n",
      "{'loss': 0.1663, 'grad_norm': 2.1880621910095215, 'learning_rate': 1.76e-05, 'epoch': 4.72}\n",
      "{'loss': 0.272, 'grad_norm': 6.929873943328857, 'learning_rate': 1.7333333333333332e-05, 'epoch': 4.8}\n",
      "{'loss': 0.2309, 'grad_norm': 1.6680386066436768, 'learning_rate': 1.7066666666666667e-05, 'epoch': 4.88}\n",
      "{'loss': 0.1749, 'grad_norm': 4.018573760986328, 'learning_rate': 1.6800000000000002e-05, 'epoch': 4.96}\n",
      "{'loss': 0.1365, 'grad_norm': 10.152517318725586, 'learning_rate': 1.6533333333333333e-05, 'epoch': 5.04}\n",
      "{'loss': 0.1666, 'grad_norm': 6.911246299743652, 'learning_rate': 1.6266666666666668e-05, 'epoch': 5.12}\n",
      "{'loss': 0.1319, 'grad_norm': 4.516302108764648, 'learning_rate': 1.6e-05, 'epoch': 5.2}\n",
      "{'loss': 0.1062, 'grad_norm': 11.773371696472168, 'learning_rate': 1.5733333333333334e-05, 'epoch': 5.28}\n",
      "{'loss': 0.1341, 'grad_norm': 3.0166914463043213, 'learning_rate': 1.5466666666666665e-05, 'epoch': 5.36}\n",
      "{'loss': 0.1413, 'grad_norm': 5.8642449378967285, 'learning_rate': 1.5200000000000002e-05, 'epoch': 5.44}\n",
      "{'loss': 0.1421, 'grad_norm': 5.257589340209961, 'learning_rate': 1.4933333333333333e-05, 'epoch': 5.52}\n",
      "{'loss': 0.1606, 'grad_norm': 6.580206394195557, 'learning_rate': 1.4666666666666666e-05, 'epoch': 5.6}\n",
      "{'loss': 0.1886, 'grad_norm': 9.59530258178711, 'learning_rate': 1.44e-05, 'epoch': 5.68}\n",
      "{'loss': 0.0901, 'grad_norm': 4.736073970794678, 'learning_rate': 1.4133333333333332e-05, 'epoch': 5.76}\n",
      "{'loss': 0.1391, 'grad_norm': 6.247797012329102, 'learning_rate': 1.3866666666666667e-05, 'epoch': 5.84}\n",
      "{'loss': 0.0684, 'grad_norm': 7.60597038269043, 'learning_rate': 1.36e-05, 'epoch': 5.92}\n",
      "{'loss': 0.1393, 'grad_norm': 4.133141040802002, 'learning_rate': 1.3333333333333333e-05, 'epoch': 6.0}\n",
      "{'loss': 0.0694, 'grad_norm': 0.9181274771690369, 'learning_rate': 1.3066666666666666e-05, 'epoch': 6.08}\n",
      "{'loss': 0.0923, 'grad_norm': 3.3288910388946533, 'learning_rate': 1.2800000000000001e-05, 'epoch': 6.16}\n",
      "{'loss': 0.1451, 'grad_norm': 2.7575132846832275, 'learning_rate': 1.2533333333333334e-05, 'epoch': 6.24}\n",
      "{'loss': 0.0651, 'grad_norm': 4.176497459411621, 'learning_rate': 1.2266666666666667e-05, 'epoch': 6.32}\n",
      "{'loss': 0.0717, 'grad_norm': 9.644094467163086, 'learning_rate': 1.2e-05, 'epoch': 6.4}\n",
      "{'loss': 0.1109, 'grad_norm': 5.8614091873168945, 'learning_rate': 1.1733333333333335e-05, 'epoch': 6.48}\n",
      "{'loss': 0.1138, 'grad_norm': 3.309060573577881, 'learning_rate': 1.1466666666666668e-05, 'epoch': 6.56}\n",
      "{'loss': 0.0739, 'grad_norm': 5.067302227020264, 'learning_rate': 1.1200000000000001e-05, 'epoch': 6.64}\n",
      "{'loss': 0.1309, 'grad_norm': 3.11285400390625, 'learning_rate': 1.0933333333333334e-05, 'epoch': 6.72}\n",
      "{'loss': 0.1011, 'grad_norm': 6.8545918464660645, 'learning_rate': 1.0666666666666667e-05, 'epoch': 6.8}\n",
      "{'loss': 0.1193, 'grad_norm': 3.651055335998535, 'learning_rate': 1.04e-05, 'epoch': 6.88}\n",
      "{'loss': 0.086, 'grad_norm': 0.3526391386985779, 'learning_rate': 1.0133333333333333e-05, 'epoch': 6.96}\n",
      "{'loss': 0.0583, 'grad_norm': 6.255795001983643, 'learning_rate': 9.866666666666667e-06, 'epoch': 7.04}\n",
      "{'loss': 0.0426, 'grad_norm': 2.401978015899658, 'learning_rate': 9.600000000000001e-06, 'epoch': 7.12}\n",
      "{'loss': 0.1022, 'grad_norm': 0.1027015745639801, 'learning_rate': 9.333333333333334e-06, 'epoch': 7.2}\n",
      "{'loss': 0.0509, 'grad_norm': 3.022923231124878, 'learning_rate': 9.066666666666667e-06, 'epoch': 7.28}\n",
      "{'loss': 0.0781, 'grad_norm': 3.4354090690612793, 'learning_rate': 8.8e-06, 'epoch': 7.36}\n",
      "{'loss': 0.0535, 'grad_norm': 0.1873532086610794, 'learning_rate': 8.533333333333334e-06, 'epoch': 7.44}\n",
      "{'loss': 0.0407, 'grad_norm': 0.17764845490455627, 'learning_rate': 8.266666666666667e-06, 'epoch': 7.52}\n",
      "{'loss': 0.0728, 'grad_norm': 0.9756266474723816, 'learning_rate': 8e-06, 'epoch': 7.6}\n",
      "{'loss': 0.079, 'grad_norm': 8.85451602935791, 'learning_rate': 7.733333333333333e-06, 'epoch': 7.68}\n",
      "{'loss': 0.0835, 'grad_norm': 4.392913341522217, 'learning_rate': 7.466666666666667e-06, 'epoch': 7.76}\n",
      "{'loss': 0.0838, 'grad_norm': 3.23598051071167, 'learning_rate': 7.2e-06, 'epoch': 7.84}\n",
      "{'loss': 0.0766, 'grad_norm': 0.3002254068851471, 'learning_rate': 6.933333333333334e-06, 'epoch': 7.92}\n",
      "{'loss': 0.087, 'grad_norm': 7.322337627410889, 'learning_rate': 6.666666666666667e-06, 'epoch': 8.0}\n",
      "{'loss': 0.0397, 'grad_norm': 0.17338523268699646, 'learning_rate': 6.4000000000000006e-06, 'epoch': 8.08}\n",
      "{'loss': 0.034, 'grad_norm': 4.430432319641113, 'learning_rate': 6.133333333333334e-06, 'epoch': 8.16}\n",
      "{'loss': 0.0487, 'grad_norm': 5.218114376068115, 'learning_rate': 5.8666666666666675e-06, 'epoch': 8.24}\n",
      "{'loss': 0.0404, 'grad_norm': 2.599902391433716, 'learning_rate': 5.600000000000001e-06, 'epoch': 8.32}\n",
      "{'loss': 0.0394, 'grad_norm': 0.984348475933075, 'learning_rate': 5.333333333333334e-06, 'epoch': 8.4}\n",
      "{'loss': 0.0617, 'grad_norm': 4.771956443786621, 'learning_rate': 5.066666666666667e-06, 'epoch': 8.48}\n",
      "{'loss': 0.0753, 'grad_norm': 0.16232088208198547, 'learning_rate': 4.800000000000001e-06, 'epoch': 8.56}\n",
      "{'loss': 0.077, 'grad_norm': 3.152226448059082, 'learning_rate': 4.533333333333334e-06, 'epoch': 8.64}\n",
      "{'loss': 0.05, 'grad_norm': 0.0807434543967247, 'learning_rate': 4.266666666666667e-06, 'epoch': 8.72}\n",
      "{'loss': 0.061, 'grad_norm': 0.9224029183387756, 'learning_rate': 4e-06, 'epoch': 8.8}\n",
      "{'loss': 0.0416, 'grad_norm': 4.694868564605713, 'learning_rate': 3.7333333333333333e-06, 'epoch': 8.88}\n",
      "{'loss': 0.0543, 'grad_norm': 8.48291015625, 'learning_rate': 3.466666666666667e-06, 'epoch': 8.96}\n",
      "{'loss': 0.076, 'grad_norm': 0.07987383753061295, 'learning_rate': 3.2000000000000003e-06, 'epoch': 9.04}\n",
      "{'loss': 0.049, 'grad_norm': 0.8219187259674072, 'learning_rate': 2.9333333333333338e-06, 'epoch': 9.12}\n",
      "{'loss': 0.0402, 'grad_norm': 0.13590647280216217, 'learning_rate': 2.666666666666667e-06, 'epoch': 9.2}\n",
      "{'loss': 0.081, 'grad_norm': 5.8410468101501465, 'learning_rate': 2.4000000000000003e-06, 'epoch': 9.28}\n",
      "{'loss': 0.0529, 'grad_norm': 0.33807647228240967, 'learning_rate': 2.1333333333333334e-06, 'epoch': 9.36}\n",
      "{'loss': 0.0469, 'grad_norm': 0.3493814766407013, 'learning_rate': 1.8666666666666667e-06, 'epoch': 9.44}\n",
      "{'loss': 0.0423, 'grad_norm': 0.2087753415107727, 'learning_rate': 1.6000000000000001e-06, 'epoch': 9.52}\n",
      "{'loss': 0.0306, 'grad_norm': 4.090005397796631, 'learning_rate': 1.3333333333333334e-06, 'epoch': 9.6}\n",
      "{'loss': 0.0473, 'grad_norm': 0.18839004635810852, 'learning_rate': 1.0666666666666667e-06, 'epoch': 9.68}\n",
      "{'loss': 0.0306, 'grad_norm': 0.34165966510772705, 'learning_rate': 8.000000000000001e-07, 'epoch': 9.76}\n",
      "{'loss': 0.0276, 'grad_norm': 0.05991699919104576, 'learning_rate': 5.333333333333333e-07, 'epoch': 9.84}\n",
      "{'loss': 0.0281, 'grad_norm': 0.2338649481534958, 'learning_rate': 2.6666666666666667e-07, 'epoch': 9.92}\n",
      "{'loss': 0.0481, 'grad_norm': 0.5555749535560608, 'learning_rate': 0.0, 'epoch': 10.0}\n",
      "{'train_runtime': 574.0034, 'train_samples_per_second': 69.686, 'train_steps_per_second': 2.178, 'train_loss': 0.35166295790672303, 'epoch': 10.0}\n"
     ]
    },
    {
     "data": {
      "text/plain": [
       "TrainOutput(global_step=1250, training_loss=0.35166295790672303, metrics={'train_runtime': 574.0034, 'train_samples_per_second': 69.686, 'train_steps_per_second': 2.178, 'total_flos': 2631252295680000.0, 'train_loss': 0.35166295790672303, 'epoch': 10.0})"
      ]
     },
     "execution_count": 9,
     "metadata": {},
     "output_type": "execute_result"
    }
   ],
   "source": [
    "trainer.train()"
   ]
  },
  {
   "cell_type": "code",
   "execution_count": 10,
   "metadata": {},
   "outputs": [
    {
     "data": {
      "application/vnd.jupyter.widget-view+json": {
       "model_id": "230413b164564e94beb2007a9a35b055",
       "version_major": 2,
       "version_minor": 0
      },
      "text/plain": [
       "  0%|          | 0/32 [00:00<?, ?it/s]"
      ]
     },
     "metadata": {},
     "output_type": "display_data"
    },
    {
     "name": "stderr",
     "output_type": "stream",
     "text": [
      "Trainer is attempting to log a value of \"[[  2   0   0   0   1   8   2   0]\n",
      " [  1  40   0   0   0  10   4   4]\n",
      " [  1   1   0   0   0   0   2   0]\n",
      " [  0   1   0  42   1  29   6   2]\n",
      " [  0   0   0   0  79  16   1   0]\n",
      " [  1   9   0  11  19 515  28   3]\n",
      " [  0   1   0   1   1  35  81   1]\n",
      " [  0   5   2   0   0   6   8  20]]\" of type <class 'numpy.ndarray'> for key \"eval/confusion_matrix\" as a scalar. This invocation of Tensorboard's writer.add_scalar() is incorrect so we dropped this attribute.\n"
     ]
    }
   ],
   "source": [
    "results = trainer.evaluate()"
   ]
  },
  {
   "cell_type": "code",
   "execution_count": 11,
   "metadata": {},
   "outputs": [
    {
     "name": "stdout",
     "output_type": "stream",
     "text": [
      "Accuracy: 0.779\n",
      "\n",
      "Balanced Accuracy: 0.5268614886523401\n"
     ]
    }
   ],
   "source": [
    "print(f\"Accuracy: {results['eval_accuracy']}\\n\")\n",
    "print(f\"Balanced Accuracy: {results['eval_balanced_accuracy']}\")"
   ]
  },
  {
   "cell_type": "code",
   "execution_count": 12,
   "metadata": {},
   "outputs": [
    {
     "data": {
      "image/png": "[encoded data removed]",
      "text/plain": [
       "<Figure size 1000x700 with 1 Axes>"
      ]
     },
     "metadata": {},
     "output_type": "display_data"
    }
   ],
   "source": [
    "# Assuming 'label_encoder' and 'results' are already defined\n",
    "cm = results['eval_confusion_matrix']\n",
    "cm_df = pd.DataFrame(cm, index=label_encoder.classes_, columns=label_encoder.classes_)\n",
    "\n",
    "# Plotting the confusion matrix\n",
    "plt.figure(figsize=(10, 7))\n",
    "sns.heatmap(cm_df, annot=True, fmt='d', cmap='Blues', cbar=False)\n",
    "plt.xlabel('Predicted')\n",
    "plt.ylabel('Actual')\n",
    "plt.title('Confusion Matrix')\n",
    "plt.show()"
   ]
  },
  {
   "cell_type": "markdown",
   "metadata": {},
   "source": [
    "### Predict Submission"
   ]
  },
  {
   "cell_type": "code",
   "execution_count": null,
   "metadata": {},
   "outputs": [],
   "source": [
    "# Load the dataset\n",
    "file_path = r\"Data\\unlabeled_preprocess_with_translate.csv\"\n",
    "dataset0 = pd.read_csv(file_path)\n",
    "dataset = dataset0.copy()"
   ]
  },
  {
   "cell_type": "code",
   "execution_count": 44,
   "metadata": {},
   "outputs": [],
   "source": [
    "tokenizer = BertTokenizer.from_pretrained(\"indobenchmark/indobert-base-p1\")\n",
    "\n",
    "def tokenize_text(text, tokenizer):\n",
    "    tokens = tokenizer(text, padding='max_length', truncation=True, max_length=128, return_tensors='pt')\n",
    "    return tokens['input_ids'][0].tolist(), tokens['attention_mask'][0].tolist()\n",
    "\n",
    "dataset[['tokenized_text', 'attention_mask']] = dataset['cleaned_text'].apply(\n",
    "    lambda x: pd.Series(tokenize_text(x, tokenizer))\n",
    ")"
   ]
  },
  {
   "cell_type": "code",
   "execution_count": 45,
   "metadata": {},
   "outputs": [
    {
     "data": {
      "text/html": [
       "<div>\n",
       "<style scoped>\n",
       "    .dataframe tbody tr th:only-of-type {\n",
       "        vertical-align: middle;\n",
       "    }\n",
       "\n",
       "    .dataframe tbody tr th {\n",
       "        vertical-align: top;\n",
       "    }\n",
       "\n",
       "    .dataframe thead th {\n",
       "        text-align: right;\n",
       "    }\n",
       "</style>\n",
       "<table border=\"1\" class=\"dataframe\">\n",
       "  <thead>\n",
       "    <tr style=\"text-align: right;\">\n",
       "      <th></th>\n",
       "      <th>IDText</th>\n",
       "      <th>Text</th>\n",
       "      <th>cleaned_text</th>\n",
       "      <th>tokenized_text</th>\n",
       "      <th>attention_mask</th>\n",
       "    </tr>\n",
       "  </thead>\n",
       "  <tbody>\n",
       "    <tr>\n",
       "      <th>0</th>\n",
       "      <td>TXT0001</td>\n",
       "      <td>Lu mau org2 pro-demokrasi di negara ini bisa p...</td>\n",
       "      <td>inginkah orang orang pro demokrasi di negeri i...</td>\n",
       "      <td>[2, 561, 1721, 232, 232, 2023, 4982, 26, 1202,...</td>\n",
       "      <td>[1, 1, 1, 1, 1, 1, 1, 1, 1, 1, 1, 1, 1, 1, 1, ...</td>\n",
       "    </tr>\n",
       "    <tr>\n",
       "      <th>1</th>\n",
       "      <td>TXT0002</td>\n",
       "      <td>Prabowo ditanya soal hutang luar negeri dia me...</td>\n",
       "      <td>prabowo ditanya soal hutang luar negeri dia me...</td>\n",
       "      <td>[2, 11283, 7504, 1495, 8133, 892, 1202, 364, 3...</td>\n",
       "      <td>[1, 1, 1, 1, 1, 1, 1, 1, 1, 1, 1, 1, 1, 1, 1, ...</td>\n",
       "    </tr>\n",
       "    <tr>\n",
       "      <th>2</th>\n",
       "      <td>TXT0003</td>\n",
       "      <td>kikidaliyo Ganjar Pranowo itulah beliau sosok ...</td>\n",
       "      <td>kikidaliyo ganjar pranowo itulah beliau sosok ...</td>\n",
       "      <td>[2, 23613, 11550, 8377, 30370, 18006, 30359, 7...</td>\n",
       "      <td>[1, 1, 1, 1, 1, 1, 1, 1, 1, 1, 1, 1, 1, 1, 1, ...</td>\n",
       "    </tr>\n",
       "    <tr>\n",
       "      <th>3</th>\n",
       "      <td>TXT0004</td>\n",
       "      <td>@kumparan Prabowo Gibran yang bisa melakukan i...</td>\n",
       "      <td>prabowo gibran yang bisa melakukan itu semua d...</td>\n",
       "      <td>[2, 11283, 19044, 3823, 34, 166, 464, 137, 366...</td>\n",
       "      <td>[1, 1, 1, 1, 1, 1, 1, 1, 1, 1, 1, 1, 1, 0, 0, ...</td>\n",
       "    </tr>\n",
       "    <tr>\n",
       "      <th>4</th>\n",
       "      <td>TXT0005</td>\n",
       "      <td>@sniperruben45 @udazulhendra @ainunnajib Lah j...</td>\n",
       "      <td>lah justru yang enggak menyambung junjungan lu...</td>\n",
       "      <td>[2, 1389, 2814, 34, 6878, 19281, 4687, 19678, ...</td>\n",
       "      <td>[1, 1, 1, 1, 1, 1, 1, 1, 1, 1, 1, 1, 1, 1, 1, ...</td>\n",
       "    </tr>\n",
       "    <tr>\n",
       "      <th>...</th>\n",
       "      <td>...</td>\n",
       "      <td>...</td>\n",
       "      <td>...</td>\n",
       "      <td>...</td>\n",
       "      <td>...</td>\n",
       "    </tr>\n",
       "    <tr>\n",
       "      <th>995</th>\n",
       "      <td>TXT0996</td>\n",
       "      <td>Bikin bangga deh Ganjar-Mahfud mau alokasikan ...</td>\n",
       "      <td>bikin bangga deh ganjar mahfud mau alokasikan ...</td>\n",
       "      <td>[2, 2999, 4988, 2983, 18006, 30359, 20469, 422...</td>\n",
       "      <td>[1, 1, 1, 1, 1, 1, 1, 1, 1, 1, 1, 1, 1, 1, 1, ...</td>\n",
       "    </tr>\n",
       "    <tr>\n",
       "      <th>996</th>\n",
       "      <td>TXT0997</td>\n",
       "      <td>Pak Jokowi sebelum pilpres 2024 berbesar hati ...</td>\n",
       "      <td>pak jokowi sebelum pilpres berbesar hati meran...</td>\n",
       "      <td>[2, 556, 5237, 560, 15140, 399, 331, 1268, 222...</td>\n",
       "      <td>[1, 1, 1, 1, 1, 1, 1, 1, 1, 1, 1, 1, 1, 1, 1, ...</td>\n",
       "    </tr>\n",
       "    <tr>\n",
       "      <th>997</th>\n",
       "      <td>TXT0998</td>\n",
       "      <td>@datuakrajoangek Sbaiknya si gemot nga usah ik...</td>\n",
       "      <td>sebaiknya sih gemot enggak usah ikutan debat d...</td>\n",
       "      <td>[2, 2525, 1966, 5536, 105, 6878, 3370, 10384, ...</td>\n",
       "      <td>[1, 1, 1, 1, 1, 1, 1, 1, 1, 1, 1, 1, 1, 1, 1, ...</td>\n",
       "    </tr>\n",
       "    <tr>\n",
       "      <th>998</th>\n",
       "      <td>TXT0999</td>\n",
       "      <td>kebiasaan merembuk atau bermusyawarah jadi gay...</td>\n",
       "      <td>kebiasaan merembuk atau bermusyawarah jadi gay...</td>\n",
       "      <td>[2, 3855, 28311, 70, 158, 18438, 9691, 472, 22...</td>\n",
       "      <td>[1, 1, 1, 1, 1, 1, 1, 1, 1, 1, 1, 1, 1, 1, 1, ...</td>\n",
       "    </tr>\n",
       "    <tr>\n",
       "      <th>999</th>\n",
       "      <td>TXT1000</td>\n",
       "      <td>Mirage Ditolak Juwono Dibeli Prabowo Jubir Tim...</td>\n",
       "      <td>mirage ditolak juwono dibeli prabowo jubir tim...</td>\n",
       "      <td>[2, 25118, 2731, 8428, 162, 16334, 7074, 11283...</td>\n",
       "      <td>[1, 1, 1, 1, 1, 1, 1, 1, 1, 1, 1, 1, 1, 1, 1, ...</td>\n",
       "    </tr>\n",
       "  </tbody>\n",
       "</table>\n",
       "<p>1000 rows × 5 columns</p>\n",
       "</div>"
      ],
      "text/plain": [
       "      IDText                                               Text  \\\n",
       "0    TXT0001  Lu mau org2 pro-demokrasi di negara ini bisa p...   \n",
       "1    TXT0002  Prabowo ditanya soal hutang luar negeri dia me...   \n",
       "2    TXT0003  kikidaliyo Ganjar Pranowo itulah beliau sosok ...   \n",
       "3    TXT0004  @kumparan Prabowo Gibran yang bisa melakukan i...   \n",
       "4    TXT0005  @sniperruben45 @udazulhendra @ainunnajib Lah j...   \n",
       "..       ...                                                ...   \n",
       "995  TXT0996  Bikin bangga deh Ganjar-Mahfud mau alokasikan ...   \n",
       "996  TXT0997  Pak Jokowi sebelum pilpres 2024 berbesar hati ...   \n",
       "997  TXT0998  @datuakrajoangek Sbaiknya si gemot nga usah ik...   \n",
       "998  TXT0999  kebiasaan merembuk atau bermusyawarah jadi gay...   \n",
       "999  TXT1000  Mirage Ditolak Juwono Dibeli Prabowo Jubir Tim...   \n",
       "\n",
       "                                          cleaned_text  \\\n",
       "0    inginkah orang orang pro demokrasi di negeri i...   \n",
       "1    prabowo ditanya soal hutang luar negeri dia me...   \n",
       "2    kikidaliyo ganjar pranowo itulah beliau sosok ...   \n",
       "3    prabowo gibran yang bisa melakukan itu semua d...   \n",
       "4    lah justru yang enggak menyambung junjungan lu...   \n",
       "..                                                 ...   \n",
       "995  bikin bangga deh ganjar mahfud mau alokasikan ...   \n",
       "996  pak jokowi sebelum pilpres berbesar hati meran...   \n",
       "997  sebaiknya sih gemot enggak usah ikutan debat d...   \n",
       "998  kebiasaan merembuk atau bermusyawarah jadi gay...   \n",
       "999  mirage ditolak juwono dibeli prabowo jubir tim...   \n",
       "\n",
       "                                        tokenized_text  \\\n",
       "0    [2, 561, 1721, 232, 232, 2023, 4982, 26, 1202,...   \n",
       "1    [2, 11283, 7504, 1495, 8133, 892, 1202, 364, 3...   \n",
       "2    [2, 23613, 11550, 8377, 30370, 18006, 30359, 7...   \n",
       "3    [2, 11283, 19044, 3823, 34, 166, 464, 137, 366...   \n",
       "4    [2, 1389, 2814, 34, 6878, 19281, 4687, 19678, ...   \n",
       "..                                                 ...   \n",
       "995  [2, 2999, 4988, 2983, 18006, 30359, 20469, 422...   \n",
       "996  [2, 556, 5237, 560, 15140, 399, 331, 1268, 222...   \n",
       "997  [2, 2525, 1966, 5536, 105, 6878, 3370, 10384, ...   \n",
       "998  [2, 3855, 28311, 70, 158, 18438, 9691, 472, 22...   \n",
       "999  [2, 25118, 2731, 8428, 162, 16334, 7074, 11283...   \n",
       "\n",
       "                                        attention_mask  \n",
       "0    [1, 1, 1, 1, 1, 1, 1, 1, 1, 1, 1, 1, 1, 1, 1, ...  \n",
       "1    [1, 1, 1, 1, 1, 1, 1, 1, 1, 1, 1, 1, 1, 1, 1, ...  \n",
       "2    [1, 1, 1, 1, 1, 1, 1, 1, 1, 1, 1, 1, 1, 1, 1, ...  \n",
       "3    [1, 1, 1, 1, 1, 1, 1, 1, 1, 1, 1, 1, 1, 0, 0, ...  \n",
       "4    [1, 1, 1, 1, 1, 1, 1, 1, 1, 1, 1, 1, 1, 1, 1, ...  \n",
       "..                                                 ...  \n",
       "995  [1, 1, 1, 1, 1, 1, 1, 1, 1, 1, 1, 1, 1, 1, 1, ...  \n",
       "996  [1, 1, 1, 1, 1, 1, 1, 1, 1, 1, 1, 1, 1, 1, 1, ...  \n",
       "997  [1, 1, 1, 1, 1, 1, 1, 1, 1, 1, 1, 1, 1, 1, 1, ...  \n",
       "998  [1, 1, 1, 1, 1, 1, 1, 1, 1, 1, 1, 1, 1, 1, 1, ...  \n",
       "999  [1, 1, 1, 1, 1, 1, 1, 1, 1, 1, 1, 1, 1, 1, 1, ...  \n",
       "\n",
       "[1000 rows x 5 columns]"
      ]
     },
     "execution_count": 45,
     "metadata": {},
     "output_type": "execute_result"
    }
   ],
   "source": [
    "dataset"
   ]
  },
  {
   "cell_type": "code",
   "execution_count": 46,
   "metadata": {},
   "outputs": [],
   "source": [
    "class UnlabeledTweetDataset(torch.utils.data.Dataset):\n",
    "    def __init__(self, texts, attention_masks):\n",
    "        self.texts = texts\n",
    "        self.attention_masks = attention_masks\n",
    "\n",
    "    def __getitem__(self, idx):\n",
    "        item = {\n",
    "            'input_ids': torch.tensor(self.texts[idx], dtype=torch.long),\n",
    "            'attention_mask': torch.tensor(self.attention_masks[idx], dtype=torch.long)\n",
    "        }\n",
    "        return item\n",
    "\n",
    "    def __len__(self):\n",
    "        return len(self.texts)\n",
    "\n",
    "# Create the dataset\n",
    "texts = dataset['tokenized_text'].tolist()\n",
    "attention_masks = dataset['attention_mask'].tolist()\n",
    "\n",
    "unlabeled_dataset = UnlabeledTweetDataset(texts, attention_masks)"
   ]
  },
  {
   "cell_type": "code",
   "execution_count": 47,
   "metadata": {},
   "outputs": [
    {
     "data": {
      "application/vnd.jupyter.widget-view+json": {
       "model_id": "ebbf1a49b26e4e619c2231e3f522eb15",
       "version_major": 2,
       "version_minor": 0
      },
      "text/plain": [
       "  0%|          | 0/32 [00:00<?, ?it/s]"
      ]
     },
     "metadata": {},
     "output_type": "display_data"
    },
    {
     "name": "stdout",
     "output_type": "stream",
     "text": [
      "  predicted_label\n",
      "0         Politik\n",
      "1         Politik\n",
      "2        Ideologi\n",
      "3         Politik\n",
      "4         Politik\n"
     ]
    }
   ],
   "source": [
    "# Define the class dictionary\n",
    "class_dict = {'Demografi': 0, 'Ekonomi': 1, 'Geografi': 2, 'Ideologi': 3, 'Pertahanan dan Keamanan': 4, 'Politik': 5, 'Sosial Budaya': 6, 'Sumber Daya Alam': 7}\n",
    "\n",
    "# Invert the dictionary to map numerical labels to class names\n",
    "inv_class_dict = {v: k for k, v in class_dict.items()}\n",
    "\n",
    "# Use the Trainer to make predictions\n",
    "predictions = trainer.predict(unlabeled_dataset)\n",
    "\n",
    "# Get the predicted labels\n",
    "predicted_labels = predictions.predictions.argmax(-1)\n",
    "\n",
    "# Map numerical predictions to class names\n",
    "predicted_class_names = [inv_class_dict[label] for label in predicted_labels]\n",
    "\n",
    "# Convert to DataFrame\n",
    "predictions_df = pd.DataFrame(predicted_class_names, columns=['predicted_label'])\n",
    "print(predictions_df.head())"
   ]
  },
  {
   "cell_type": "code",
   "execution_count": null,
   "metadata": {},
   "outputs": [],
   "source": [
    "# Optionally, save predictions to a CSV file\n",
    "predictions_df.to_csv(r\"Submission\\submission_1.csv\", index=False)"
   ]
  }
 ],
 "metadata": {
  "kernelspec": {
   "display_name": "Python 3",
   "language": "python",
   "name": "python3"
  },
  "language_info": {
   "codemirror_mode": {
    "name": "ipython",
    "version": 3
   },
   "file_extension": ".py",
   "mimetype": "text/x-python",
   "name": "python",
   "nbconvert_exporter": "python",
   "pygments_lexer": "ipython3",
   "version": "3.12.3"
  }
 },
 "nbformat": 4,
 "nbformat_minor": 2
}
